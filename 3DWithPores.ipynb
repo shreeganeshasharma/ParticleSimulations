{
  "nbformat": 4,
  "nbformat_minor": 0,
  "metadata": {
    "colab": {
      "provenance": [],
      "authorship_tag": "ABX9TyPE7MizsdOjJtN2OjZFlmjX",
      "include_colab_link": true
    },
    "kernelspec": {
      "name": "python3",
      "display_name": "Python 3"
    },
    "language_info": {
      "name": "python"
    }
  },
  "cells": [
    {
      "cell_type": "markdown",
      "metadata": {
        "id": "view-in-github",
        "colab_type": "text"
      },
      "source": [
        "<a href=\"https://colab.research.google.com/github/shreeganeshasharma/ParticleSimulations/blob/main/3DWithPores.ipynb\" target=\"_parent\"><img src=\"https://colab.research.google.com/assets/colab-badge.svg\" alt=\"Open In Colab\"/></a>"
      ]
    },
    {
      "cell_type": "markdown",
      "metadata": {
        "id": "9_7vJQZG0ys_"
      },
      "source": [
        "# D1 = 1, D2 = 10\n",
        "___\n",
        "https://journals.aps.org/pre/supplemental/10.1103/PhysRevE.105.014604\n",
        "___"
      ]
    },
    {
      "cell_type": "markdown",
      "metadata": {
        "id": "WwEocfOv4CZC"
      },
      "source": [
        "# Initialization"
      ]
    },
    {
      "cell_type": "code",
      "execution_count": 2,
      "metadata": {
        "colab": {
          "base_uri": "https://localhost:8080/",
          "height": 37
        },
        "id": "t0jhDN7Iy7vk",
        "outputId": "52951358-5d85-4b70-8c45-e04aa7656f0d"
      },
      "outputs": [
        {
          "output_type": "execute_result",
          "data": {
            "text/plain": [
              "'Initialize X[:, 0] here\\nInitialize counts for t=0'"
            ],
            "application/vnd.google.colaboratory.intrinsic+json": {
              "type": "string"
            }
          },
          "metadata": {},
          "execution_count": 2
        }
      ],
      "source": [
        "\"\"\"\n",
        "Aim : To simulate distribution of mean first passage times in 2D Heterogeneous media with pores\n",
        "Source : https://journals.aps.org/prl/abstract/10.1103/PhysRevLett.115.240601\n",
        "Author : Shree Ganesha Sharma.M.S\n",
        "Date : 26-July-2023\n",
        "\"\"\"\n",
        "#necessary libraries\n",
        "import time\n",
        "import math\n",
        "import numpy as np\n",
        "from scipy.stats import bernoulli\n",
        "import matplotlib.pyplot as plt\n",
        "\n",
        "#Brownian motion parameters\n",
        "#Dimensions - 2, 3 or higher\n",
        "dim = 3\n",
        "#Time step\n",
        "dt = 0.001\n",
        "#Number of steps\n",
        "nums = 1000\n",
        "#Number of particles\n",
        "nump = 1000\n",
        "#Radius of the inner ball, reflecting boundary with pores\n",
        "R1 = 0.5\n",
        "#Radius of the outer ball, completely reflecting boundary\n",
        "R2 = 1\n",
        "#Diffusivity of inner medium\n",
        "D1 = 1\n",
        "#Diffusivity of outer medium\n",
        "D2 = 10\n",
        "\n",
        "#Radius of the target at the center\n",
        "R = R1 / 5\n",
        "\"\"\"Get r0 value from paper\"\"\"\n",
        "#Hitting times if the target is hit\n",
        "hittingTime = np.zeros(nump)\n",
        "\n",
        "#Parameters of the normal distribution\n",
        "mean = np.zeros(dim)\n",
        "covar = np.identity(dim)\n",
        "\n",
        "#Trajectory of a particle\n",
        "X = np.zeros([dim, nums])\n",
        "#Trajectories of all particles\n",
        "Y = np.zeros([dim, nums, nump])\n",
        "\n",
        "#Random steps\n",
        "Eps = np.random.multivariate_normal(mean, covar, (nump, nums))\n",
        "dX1s = np.sqrt(2*D1*dt)*Eps\n",
        "dX2s = np.sqrt(2*D2*dt)*Eps\n",
        "\n",
        "#nump particles starting at init\n",
        "Init1D = np.tile(np.array([.2]), nump)\n",
        "Init2D = np.tile(np.array([[.2], [0]]), nump)\n",
        "Init3D = np.tile(np.array([[.2], [0], [0]]), nump)\n",
        "\n",
        "\"\"\"Initialize X[:, 0] here\n",
        "Initialize counts for t=0\"\"\""
      ]
    },
    {
      "cell_type": "markdown",
      "metadata": {
        "id": "pMhdohz7N7Rd"
      },
      "source": [
        "# Add pores"
      ]
    },
    {
      "cell_type": "code",
      "execution_count": 3,
      "metadata": {
        "colab": {
          "base_uri": "https://localhost:8080/",
          "height": 0
        },
        "id": "wzRcDxq5N98Y",
        "outputId": "758bf80d-5cf5-4eae-b337-a8f7d6e1f330"
      },
      "outputs": [
        {
          "output_type": "execute_result",
          "data": {
            "text/plain": [
              "'\\nRefer to BetterPorePassage if necessary - https://colab.research.google.com/drive/1IaztD_VBbBy5TW3F0XF4Thw1xvNx-mkf#scrollTo=pMhdohz7N7Rd\\n'"
            ],
            "application/vnd.google.colaboratory.intrinsic+json": {
              "type": "string"
            }
          },
          "metadata": {},
          "execution_count": 3
        }
      ],
      "source": [
        "#Number of pores\n",
        "N = 10\n",
        "\n",
        "#Can neglect the curvature in higher dimensions as long as R1 >> R  - > Arc length = 2r*arcsin(d/2r) ~ d\n",
        "#Maximum number of pores possible at radius R - floor(4*pi*R1^2 / pi*R^2)\n",
        "#Maximum diameter at N pores = floor(4*pi*R1^2/pi*R^2)\n",
        "#Radius of pores\n",
        "r = 0.1\n",
        "\n",
        "#A list of centers of pores\n",
        "poreCenters = []\n",
        "#First pore, selected randomly\n",
        "center = np.random.randn(dim)\n",
        "#Project the center of the pore onto the surface of the inner ball\n",
        "center = R1 * center / np.linalg.norm(center)\n",
        "poreCenters.append(center)\n",
        "\n",
        "#Add N-1 more pores uniformly randomly on the surface of the inner ball\n",
        "while len(poreCenters) < N:\n",
        "  center = np.random.randn(dim)\n",
        "  center = R1 * center / np.linalg.norm(center)\n",
        "  #Ensure that there is no overlap between pores\n",
        "  if all(np.linalg.norm(center - poreCenters, axis=1) > 2*r) == True:\n",
        "    poreCenters.append(center)\n",
        "\"\"\"\n",
        "Refer to BetterPorePassage if necessary - https://colab.research.google.com/drive/1IaztD_VBbBy5TW3F0XF4Thw1xvNx-mkf#scrollTo=pMhdohz7N7Rd\n",
        "\"\"\""
      ]
    },
    {
      "cell_type": "markdown",
      "metadata": {
        "id": "T-7O8o5oxNSF"
      },
      "source": [
        "#Simulate Ito Convention"
      ]
    },
    {
      "cell_type": "code",
      "execution_count": 4,
      "metadata": {
        "colab": {
          "base_uri": "https://localhost:8080/"
        },
        "id": "OZLF7HuA-NI9",
        "outputId": "c9f96174-631e-4dc1-e085-7a88546be5d5"
      },
      "outputs": [
        {
          "output_type": "stream",
          "name": "stdout",
          "text": [
            "nump =  1000 nums =  1000 --- 25.464688777923584 seconds ---\n"
          ]
        }
      ],
      "source": [
        "start_time = time.time()\n",
        "for i in range(nump):\n",
        "  #Initialize - The particle starts at a random position outside the target\n",
        "  if dim == 1:\n",
        "    X[:, 0] = Init1D[i]\n",
        "  if dim == 2:\n",
        "    X[:, 0] = Init2D[:, i]\n",
        "  elif dim == 3:\n",
        "    X[:, 0] = Init3D[:, i]\n",
        "\n",
        "  #Find particle trajectories\n",
        "  for j in range(1, nums):\n",
        "    #Random increment in the position\n",
        "    dRand = Eps[i, j, :]\n",
        "    #Increment if particle is in medium1\n",
        "    dX1 = dX1s[i, j, :]\n",
        "    #Increment if particle is in medium2\n",
        "    dX2 = dX2s[i, j, :]\n",
        "\n",
        "    #Particle hits the target\n",
        "    if R < np.linalg.norm(X[:, j - 1]) < R1 and np.linalg.norm(X[:, j - 1] + dX1) < R:\n",
        "      X[:, j] = X[:, j - 1] + dX1\n",
        "      #For plotting\n",
        "      hittingTime[i] = j\n",
        "      \"\"\"TODO - How to remove the particle once it hits the target?\"\"\"\n",
        "      X[:, j+1:] = -1\n",
        "      #print(j, \"Hit\", X[:, j], np.linalg.norm(X[:, j]), np.linalg.norm(X[:, j] - X[:, j-1]))\n",
        "      break\n",
        "\n",
        "    #Particle is traveling in medium1 outside the target\n",
        "    elif R < np.linalg.norm(X[:, j - 1]) < R1 and R < np.linalg.norm(X[:, j - 1] + dX1) < R1:\n",
        "      X[:, j] = X[:, j - 1] + dX1\n",
        "\n",
        "    #Particle is traveling in medium2, without hitting the reflecting boundary\n",
        "    elif R1 < np.linalg.norm(X[:, j - 1]) < R2 and R1 < np.linalg.norm(X[:, j - 1] + dX2) < R2:\n",
        "      X[:, j] = X[:, j - 1] + dX2\n",
        "\n",
        "    #Particle is reflected by the outer ball when its next step crosses the bound R2 - Reflect in D2\n",
        "    #https://math.stackexchange.com/questions/13261/how-to-get-a-reflection-vector\n",
        "    elif R1 < np.linalg.norm(X[:, j - 1]) < R2 and np.linalg.norm(X[:, j - 1] + dX2) > R2:\n",
        "      #Find the point of reflection\n",
        "      lamb = ( -np.dot(X[:, j - 1], dX2) + np.sqrt(np.dot(X[:, j - 1], dX2)**2 - (np.linalg.norm(dX2)**2)*(np.linalg.norm(X[:, j - 1])**2 - R2**2)) )/(np.linalg.norm(dX2)**2)\n",
        "      r0 = X[:, j - 1] + lamb*dX2\n",
        "      #Image in D2\n",
        "      X[:, j] = X[:, j - 1] + dX2 - 2*(1-lamb)*np.dot(dX2, r0/np.linalg.norm(r0))*r0/np.linalg.norm(r0)\n",
        "\n",
        "    elif R < np.linalg.norm(X[:, j - 1]) < R1 and np.linalg.norm(X[:, j - 1] + dX1) > R1:\n",
        "      #Find the point of reflection/diffusion\n",
        "      lamb = ( -np.dot(X[:, j - 1], dX1) + np.sqrt(np.dot(X[:, j - 1], dX1)**2 - (np.linalg.norm(dX1)**2)*(np.linalg.norm(X[:, j - 1])**2 - R1**2)) )/(np.linalg.norm(dX1)**2)\n",
        "      r0 = X[:, j - 1] + lamb*dX1\n",
        "      if any(np.linalg.norm(r0 - poreCenters, axis=1) < r):\n",
        "        #If particle's projection on surface of the inner ball is near any pore, diffuse to D2.\n",
        "        X[:, j] = X[:, j - 1] + dX1\n",
        "      else:\n",
        "        #Particle is reflected by inner ball when it's near the media boundary and far from all the pores\n",
        "        #Image in D1\n",
        "        X[:, j] = X[:, j - 1] + dX1 - 2*(1-lamb)*np.dot(dX1, r0/np.linalg.norm(r0))*r0/np.linalg.norm(r0)\n",
        "        #print(j, \"Reflection in D1\", X[:, j], np.linalg.norm(X[:, j]), np.linalg.norm(X[:, j] - X[:, j-1]))\n",
        "\n",
        "    elif R1 < np.linalg.norm(X[:, j - 1]) < R2 and np.linalg.norm(X[:, j - 1] + dX2) < R1:\n",
        "      #Find the point of reflection/diffusion\n",
        "      lamb = ( -np.dot(X[:, j - 1], dX2) - np.sqrt(np.dot(X[:, j - 1], dX2)**2 - (np.linalg.norm(dX2)**2)*(np.linalg.norm(X[:, j - 1])**2 - R1**2)) )/(np.linalg.norm(dX2)**2)\n",
        "      r0 = X[:, j - 1] + lamb*dX2\n",
        "      #If particle projected on surface of ball 1 is near a pore, diffuse to D1. Else reflect it\n",
        "      if any(np.linalg.norm(r0 - poreCenters, axis=1) < r):\n",
        "        #Diffuse to D1 via a pore\n",
        "        X[:, j] = X[:, j - 1] + dX1\n",
        "      else:\n",
        "        #Reflect - Image in D2\n",
        "        X[:, j] = X[:, j - 1] + dX2 - 2*(1-lamb)*np.dot(dX2, r0/np.linalg.norm(r0))*r0/np.linalg.norm(r0)\n",
        "        #print(j, \"Reflection in D2\", X[:, j], np.linalg.norm(X[:, j]), np.linalg.norm(X[:, j] - X[:, j-1]))\n",
        "  #Save the particle's trajectory\n",
        "  Y[:, :, i] = X\n",
        "  #print(i)\n",
        "\n",
        "#Time taken to simulate motion of nump particles each taking nums steps\n",
        "print(\"nump = \", nump, \"nums = \", nums, \"--- %s seconds ---\" % (time.time() - start_time))"
      ]
    },
    {
      "cell_type": "markdown",
      "metadata": {
        "id": "QHxXBpYlxwM0"
      },
      "source": [
        "# Plots"
      ]
    },
    {
      "cell_type": "code",
      "execution_count": 5,
      "metadata": {
        "colab": {
          "base_uri": "https://localhost:8080/",
          "height": 490
        },
        "id": "OfDVHoKpwrjn",
        "outputId": "55d64b88-1f0c-409b-eb2a-8c1bc2426dd3"
      },
      "outputs": [
        {
          "output_type": "stream",
          "name": "stdout",
          "text": [
            "Mean First Passage Time =  158.88330341113107\n"
          ]
        },
        {
          "output_type": "display_data",
          "data": {
            "text/plain": [
              "<Figure size 640x480 with 1 Axes>"
            ],
            "image/png": "[encoded data removed]"
          },
          "metadata": {}
        }
      ],
      "source": [
        "#Histogram hitting times and plot MFPT\n",
        "hit = hittingTime[hittingTime != 0]\n",
        "#Should zero be removed for MFPT calculation?\n",
        "MFPT = np.average(hit)\n",
        "print(\"Mean First Passage Time = \", MFPT)\n",
        "plt.plot(np.tile(MFPT, int(max(plt.hist(hit, 30)[0]))), range(int(max(plt.hist(hit, 30)[0]))), label=\"MFPT\")\n",
        "#plt.hist(hit, 30, label=\"Zero removed\")\n",
        "#plt.hist(hittingTime, 30, label=\"Zero inflated\")\n",
        "plt.ylabel(\"Frequency\")\n",
        "plt.xlabel(\"hittingTime, nums\")\n",
        "plt.title(\"Hitting times and MFPT\")\n",
        "plt.legend()\n",
        "plt.show()\n",
        "#plt.savefig('/content/drive/MyDrive/Images/Hit_Ito_1_10.png')"
      ]
    },
    {
      "cell_type": "code",
      "execution_count": null,
      "metadata": {
        "colab": {
          "background_save": true
        },
        "id": "FNtGl7sEwpBi"
      },
      "outputs": [],
      "source": [
        "#Probability of finding a particle in medium1 or medium2 or hiting the target\n",
        "count1 = np.zeros(nums)\n",
        "count2 = np.zeros(nums)\n",
        "count3 = np.zeros(nums)\n",
        "for t in range(nums):\n",
        "  for p in range(nump):\n",
        "    \"\"\"Here it matters if I set a hitting particle to -1 or stick it there\"\"\"\n",
        "    count3[t] += np.count_nonzero((0 < np.linalg.norm(Y[:, t, p])) & (np.linalg.norm(Y[:, t, p]) < R))\n",
        "    count1[t] += np.count_nonzero((R < np.linalg.norm(Y[:, t, p])) & (np.linalg.norm(Y[:, t, p]) < R1))\n",
        "    count2[t] += np.count_nonzero((R1 < np.linalg.norm(Y[:, t, p])) & (np.linalg.norm(Y[:, t, p]) < R2))\n",
        "\n",
        "xticks = np.linspace(1/nums, 1, nums)\n",
        "yticks = np.linspace(1/nums, 1, nums)\n",
        "plt.yscale(\"log\")\n",
        "plt.plot(count1/nump)\n",
        "plt.plot(count2/nump)\n",
        "plt.plot((count1 + count2)/nump)\n",
        "plt.plot(count3/nump)\n",
        "plt.plot(np.tile(MFPT/nums, nums))\n",
        "plt.legend([\"In D1\", \"In D2\", \"In D1 or D2\", \"Hit target\",\"MFPT\"])\n",
        "plt.ylabel(\"t, Time step\")\n",
        "plt.xlabel(\"Pr(t), Probability at time t\")\n",
        "plt.show()"
      ]
    },
    {
      "cell_type": "code",
      "execution_count": null,
      "metadata": {
        "colab": {
          "background_save": true
        },
        "id": "gUQKiPv_TF7J"
      },
      "outputs": [],
      "source": [
        "#Probability of finding a particle in medium1 or medium2 or hiting the target\n",
        "count1 = np.zeros(nums)\n",
        "count2 = np.zeros(nums)\n",
        "count3 = np.zeros(nums)\n",
        "for t in range(nums):\n",
        "  for p in range(nump):\n",
        "    count3[t] += np.count_nonzero((0 < np.linalg.norm(Y[:, t, p])) & (np.linalg.norm(Y[:, t, p]) < R))\n",
        "    count1[t] += np.count_nonzero((R < np.linalg.norm(Y[:, t, p])) & (np.linalg.norm(Y[:, t, p]) < R1))\n",
        "    count2[t] += np.count_nonzero((R1 < np.linalg.norm(Y[:, t, p])) & (np.linalg.norm(Y[:, t, p]) < R2))\n",
        "\n",
        "xticks = np.linspace(1/nums, 1, nums)\n",
        "yticks = np.linspace(1/nums, 1, nums)\n",
        "\n",
        "plt.plot(count1/nump)\n",
        "plt.plot(count2/nump)\n",
        "plt.plot((count1 + count2)/nump)\n",
        "plt.plot(count3/nump)\n",
        "plt.plot(np.tile(MFPT/nums, nums))\n",
        "plt.legend([\"In D1\", \"In D2\", \"In D1 or D2\", \"Hit target\",\"MFPT\"])\n",
        "plt.ylabel(\"t, Time step\")\n",
        "plt.xlabel(\"Pr(t), Probability at time t\")\n",
        "plt.show()"
      ]
    },
    {
      "cell_type": "code",
      "execution_count": null,
      "metadata": {
        "colab": {
          "background_save": true
        },
        "id": "8JzrvUaPT7LW"
      },
      "outputs": [],
      "source": [
        "gridX = 100\n",
        "gridT = nums\n",
        "pos = np.round(np.linspace(0, 1, gridX + 1), 2)\n",
        "tim = np.linspace(0, gridT, gridT+1)\n",
        "PDF1D = np.zeros((gridT, gridX+1))\n",
        "\n",
        "#Derive a heatmap of the particles\n",
        "#Find the norm of particles at each time step - reduce dimension of Y[dim][time][particle] to Z[norm or distance][time]\n",
        "\"\"\"Scale by R2 if necessary but I suspect it is wrong to do so, plots are not as expected for (R1, R2) = (5, 10) as for (0.5, 1)\"\"\"\n",
        "Z = np.linalg.norm(Y/R2, axis=0)\n",
        "\n",
        "#Quantize it to 2 ( = log10(gridX)) decimal places as grix X is with such precision\n",
        "Z = np.round(Z, 2)\n",
        "\n",
        "for t in range(nums):\n",
        "#position of all particles at time t\n",
        "  for p in range(len(pos)):\n",
        "    PDF1D[t][p] = np.count_nonzero(Z[t, :] == pos[p])\n",
        "\n",
        "#Plot the heatmap of pdf\n",
        "plt.title(\"Joint PDF of particles, P(x, t)\")\n",
        "#PDF1D is a 2D matrix with (0,0)th element on top left. Fip vertically\n",
        "plt.yscale('log')\n",
        "plt.imshow(np.flipud(PDF1D/nump), cmap = 'flag', extent = [0, 1, dt, dt*nums], aspect = \"auto\")\n",
        "plt.xlabel(\"Distance, norm(x)\")\n",
        "plt.ylabel(\"Time, t\")\n",
        "plt.colorbar()\n",
        "\n",
        "#print(Z)\n",
        "\"\"\"Here ALSO it matters if I set a hitting particle to -1 or stick it there norm of hit particles is 1.41\"\"\"\n",
        "\n",
        "\"\"\"\n",
        "W = np.zeros((nums, nump))\n",
        "#Quantize norm matrix Y for heatmap upto 2 decimal places\n",
        "\n",
        "for t in range(nums):\n",
        "  for p in range(nump):\n",
        "    W[t][p] = np.linalg.norm(Z[:, t, p])\n",
        "\"\"\"\n",
        "#print(Z)\n",
        "#print(Z.shape)\n",
        "#print(Z[0,:,:])\n",
        "#print(Z[:, 0, :])\n",
        "#print(np.linalg.norm(Z[:, 1, :], axis=0))\n",
        "#print(np.linalg.norm(Z[:, 1, 0]))\n",
        "\n",
        "#W = np.linalg.norm(Z, axis=0)\n",
        "#print(W.shape)\n",
        "#print(W)"
      ]
    },
    {
      "cell_type": "markdown",
      "metadata": {
        "id": "Fp2wvh1T0OGu"
      },
      "source": [
        "#Simulate Stratonovich Convention"
      ]
    },
    {
      "cell_type": "code",
      "execution_count": null,
      "metadata": {
        "colab": {
          "background_save": true
        },
        "id": "rVacWQbv0OG3"
      },
      "outputs": [],
      "source": [
        "#Hitting times if the target is hit\n",
        "hittingTime = np.zeros(nump)\n",
        "#Trajectory of a particle\n",
        "X = np.zeros([dim, nums])\n",
        "#Trajectories of all particles\n",
        "Y = np.zeros([dim, nums, nump])\n",
        "\n",
        "\n",
        "start_time = time.time()\n",
        "for i in range(nump):\n",
        "  #Initialize - The particle starts at a random positio outside the target\n",
        "  if dim == 1:\n",
        "    X[:, 0] = Init1D[i]\n",
        "  elif dim == 2:\n",
        "    X[:, 0] = Init2D[:, i]\n",
        "  elif dim == 3:\n",
        "    X[:, 0] = Init3D[:, i]\n",
        "\n",
        "  #Find particle trajectories\n",
        "  for j in range(1, nums):\n",
        "    #Random increment in the position\n",
        "    dRand = Eps[i, j, :]\n",
        "    #Increment if particle is in medium1\n",
        "    dX1 = dX1s[i, j, :]\n",
        "    #Increment if particle is in medium2\n",
        "    dX2 = dX2s[i, j, :]\n",
        "\n",
        "    #Particle travels in medium1, without hitting the target\n",
        "    if R < np.linalg.norm(X[:, j - 1]) < R1 and R < np.linalg.norm(X[:, j - 1] + dX1) < R1:\n",
        "      X[:, j] = X[:, j - 1] + dX1\n",
        "\n",
        "    #Particle is traveling in medium2\n",
        "    elif R1 < np.linalg.norm(X[:, j - 1]) < R2 and R1 < np.linalg.norm(X[:, j - 1] + dX2) < R2:\n",
        "      X[:, j] = X[:, j - 1] + dX2\n",
        "\n",
        "    #Particle is reflected by the outer ball when its next step crosses the bound R2\n",
        "    elif R1 < np.linalg.norm(X[:, j - 1]) < R2 and np.linalg.norm(X[:, j - 1] + dX2) > R2:\n",
        "      #Find the point of reflection\n",
        "      lamb = ( -np.dot(X[:, j - 1], dX2) + np.sqrt(np.dot(X[:, j - 1], dX2)**2 - (np.linalg.norm(dX2)**2)*(np.linalg.norm(X[:, j - 1])**2 - R2**2)) )/(np.linalg.norm(dX2)**2)\n",
        "      r0 = X[:, j - 1] + lamb*dX2\n",
        "      #Image in D2\n",
        "      X[:, j] = X[:, j - 1] + dX2 - 2*(1 - lamb)*np.dot(dX2, r0/np.linalg.norm(r0)) * r0/np.linalg.norm(r0)\n",
        "\n",
        "    #Displacement crosses the boundary D1 to D2\n",
        "    elif R < np.linalg.norm(X[:, j - 1]) < R1 and np.linalg.norm(X[:, j - 1] + dX1) > R1:\n",
        "      #Find the point of reflection/diffusion\n",
        "      lamb = ( -np.dot(X[:, j - 1], dX1) + np.sqrt(np.dot(X[:, j - 1], dX1)**2 - (np.linalg.norm(dX1)**2)*(np.linalg.norm(X[:, j - 1])**2 - R1**2)) )/(np.linalg.norm(dX1)**2)\n",
        "      r0 = X[:, j - 1] + lamb*dX1\n",
        "      if any(np.linalg.norm(r0 - poreCenters, axis=1) < r):\n",
        "        #If particle's projection on surface of the inner ball is near any pore, diffuse to D2.\n",
        "        #Residence times in each medium\n",
        "        dt1 = (np.linalg.norm(lamb*dX1)/(np.linalg.norm(dRand)*np.sqrt(2*D1)))**2\n",
        "        dt2 = ((1 - np.sqrt(dt1/dt))**2)*dt\n",
        "        #Particle diffuses, increment by motion in D2\n",
        "        X[:, j] = r0 + np.sqrt(2*D2*dt2)*dRand\n",
        "        #print(j, \"Diffusion from D1 to D2\", dt1, dt2, dt, X[:, j], np.linalg.norm(X[:, j]), np.linalg.norm(X[:, j] - X[:, j-1]))\n",
        "        #print(X[:, j-1])\n",
        "        #print(X[:, j])\n",
        "      else:\n",
        "        #Particle is reflected by inner ball when it's near the media boundary and far from all the pores\n",
        "        #Image in D1\n",
        "        X[:, j] = X[:, j - 1] + dX1 - 2*(1-lamb)*np.dot(dX1, r0/np.linalg.norm(r0))*r0/np.linalg.norm(r0)\n",
        "        #print(j, \"Reflection in D1\", X[:, j], np.linalg.norm(X[:, j]), np.linalg.norm(X[:, j] - X[:, j-1]))\n",
        "\n",
        "    elif R1 < np.linalg.norm(X[:, j - 1]) < R2 and np.linalg.norm(X[:, j - 1] + dX2) < R1:\n",
        "      #Find the point of reflection/diffusion\n",
        "      lamb = ( -np.dot(X[:, j - 1], dX2) - np.sqrt(np.dot(X[:, j - 1], dX2)**2 - (np.linalg.norm(dX2)**2)*(np.linalg.norm(X[:, j - 1])**2 - R1**2)) )/(np.linalg.norm(dX2)**2)\n",
        "      r0 = X[:, j - 1] + lamb*dX2\n",
        "      #If particle projected on surface of ball 1 is near a pore, diffuse to D1. Else reflect it\n",
        "      if any(np.linalg.norm(r0 - poreCenters, axis=1) < r):\n",
        "        #Residence times in each medium\n",
        "        dt2 = (np.linalg.norm(lamb*dX2)/(np.linalg.norm(dRand)*np.sqrt(2*D2)))**2\n",
        "        dt1 = ((1 - np.sqrt(dt2/dt))**2)*dt\n",
        "        #Particle diffuses, increment by motion in D1\n",
        "        X[:, j] = r0 + np.sqrt(2*D1*dt1)*dRand\n",
        "        #print(j, \"Diffusion from D2 to D1\", dt1, dt2, dt, X[:, j], np.linalg.norm(X[:, j]), np.linalg.norm(X[:, j] - X[:, j-1]))\n",
        "      else:\n",
        "        #Image in D2\n",
        "        X[:, j] = X[:, j - 1] + dX2 - 2*(1-lamb)*np.dot(dX2, r0/np.linalg.norm(r0))*r0/np.linalg.norm(r0)\n",
        "        #print(j, \"Reflection in D2\", X[:, j], np.linalg.norm(X[:, j]), np.linalg.norm(X[:, j] - X[:, j-1]))\n",
        "\n",
        "    #Particle hits the target\n",
        "    elif R < np.linalg.norm(X[:, j - 1]) < R1 and np.linalg.norm(X[:, j - 1] + dX1) < R:\n",
        "      X[:, j] = X[:, j - 1] + dX1\n",
        "      X[:, j+1:] = -1\n",
        "      hittingTime[i] = j\n",
        "      break\n",
        "\n",
        "  #Save the particle's trajectory\n",
        "  Y[:, :, i] = X\n",
        "  #print(i)\n",
        "\n",
        "#Time taken to simulate motion of nump particles each taking nums steps\n",
        "print(\"nump = \", nump, \"nums = \", nums, \"--- %s seconds ---\" % (time.time() - start_time))"
      ]
    },
    {
      "cell_type": "markdown",
      "metadata": {
        "id": "HkHISSrH0Ts9"
      },
      "source": [
        "# Plots"
      ]
    },
    {
      "cell_type": "code",
      "execution_count": null,
      "metadata": {
        "colab": {
          "background_save": true
        },
        "id": "Wm0P4bTl0TtH"
      },
      "outputs": [],
      "source": [
        "#Histogram hitting times and plot MFPT\n",
        "hit = hittingTime[hittingTime != 0]\n",
        "#Should zero be removed for MFPT calculation?\n",
        "MFPT = np.average(hit)\n",
        "print(\"Mean First Passage Time = \", MFPT)\n",
        "plt.plot(np.tile(MFPT, int(max(plt.hist(hit, 30)[0]))), range(int(max(plt.hist(hit, 30)[0]))), label=\"MFPT\")\n",
        "#plt.hist(hit, 30, label=\"Zero removed\")\n",
        "#plt.hist(hittingTime, 30, label=\"Zero inflated\")\n",
        "plt.ylabel(\"Frequency\")\n",
        "plt.xlabel(\"hittingTime, nums\")\n",
        "plt.title(\"Hitting times and MFPT\")\n",
        "plt.legend()\n",
        "plt.show()\n",
        "#plt.savefig('/content/drive/MyDrive/Images/Hit_Strat_1_10.png')"
      ]
    },
    {
      "cell_type": "code",
      "execution_count": null,
      "metadata": {
        "colab": {
          "background_save": true
        },
        "id": "6DjhbOeA0TtB"
      },
      "outputs": [],
      "source": [
        "#Probability of finding a particle in medium1 or medium2 or hiting the target\n",
        "count1 = np.zeros(nums)\n",
        "count2 = np.zeros(nums)\n",
        "count3 = np.zeros(nums)\n",
        "for t in range(nums):\n",
        "  for p in range(nump):\n",
        "    \"\"\"Here it matters if I set a hitting particle to -1 or stick it there\"\"\"\n",
        "    count3[t] += np.count_nonzero((0 < np.linalg.norm(Y[:, t, p])) & (np.linalg.norm(Y[:, t, p]) < R))\n",
        "    count1[t] += np.count_nonzero((R < np.linalg.norm(Y[:, t, p])) & (np.linalg.norm(Y[:, t, p]) < R1))\n",
        "    count2[t] += np.count_nonzero((R1 < np.linalg.norm(Y[:, t, p])) & (np.linalg.norm(Y[:, t, p]) < R2))\n",
        "\n",
        "xticks = np.linspace(1/nums, 1, nums)\n",
        "yticks = np.linspace(1/nums, 1, nums)\n",
        "plt.yscale(\"log\")\n",
        "plt.plot(count1/nump)\n",
        "plt.plot(count2/nump)\n",
        "plt.plot((count1 + count2)/nump)\n",
        "plt.plot(count3/nump)\n",
        "plt.plot(np.tile(MFPT/nums, nums))\n",
        "plt.legend([\"In D1\", \"In D2\", \"In D1 or D2\", \"Hit target\",\"MFPT\"])\n",
        "plt.ylabel(\"t, Time step\")\n",
        "plt.xlabel(\"Pr(t), Probability at time t\")\n",
        "plt.show()\n",
        "#plt.savefig('/content/drive/MyDrive/Images/Prob_Strat_1_10.png')"
      ]
    },
    {
      "cell_type": "code",
      "execution_count": null,
      "metadata": {
        "colab": {
          "background_save": true
        },
        "id": "jonMjqeW0TtL"
      },
      "outputs": [],
      "source": [
        "gridX = 100\n",
        "gridT = nums\n",
        "pos = np.round(np.linspace(0, 1, gridX + 1), 2)\n",
        "tim = np.linspace(0, gridT, gridT+1)\n",
        "PDF1D = np.zeros((gridT, gridX+1))\n",
        "\n",
        "#Derive a heatmap of the particles\n",
        "#Find the norm of particles at each time step\n",
        "Z = np.linalg.norm(Y/R2, axis=0)\n",
        "\n",
        "#Quantize it to 2 ( = log10(gridX)) decimal places as grix X is with such precision\n",
        "Z = np.round(Z, 2)\n",
        "\n",
        "for t in range(nums):\n",
        "#position of all particles at time t\n",
        "  for p in range(len(pos)):\n",
        "    PDF1D[t][p] = np.count_nonzero(Z[t, :] == pos[p])\n",
        "\n",
        "#Plot the heatmap of pdf\n",
        "plt.title(\"Joint PDF of particles, P(x, t)\")\n",
        "#PDF1D is a 2D matrix with (0,0)th element on top left. Fip vertically\n",
        "plt.yscale('log')\n",
        "plt.imshow(np.flipud(PDF1D/nump), cmap = 'flag', extent = [0, 1, dt, dt*nums], aspect = \"auto\")\n",
        "plt.xlabel(\"Distance, norm(x)\")\n",
        "plt.ylabel(\"Time, t\")\n",
        "plt.colorbar()"
      ]
    },
    {
      "cell_type": "markdown",
      "metadata": {
        "id": "lZ4R_-udWCBS"
      },
      "source": [
        "# Simulate Isothermal Convention"
      ]
    },
    {
      "cell_type": "code",
      "execution_count": null,
      "metadata": {
        "colab": {
          "background_save": true
        },
        "id": "iYq_nbNyWlsZ"
      },
      "outputs": [],
      "source": [
        "#Hitting times if the target is hit\n",
        "hittingTime = np.zeros(nump)\n",
        "#Trajectory of a particle\n",
        "X = np.zeros([dim, nums])\n",
        "#Trajectories of all particles\n",
        "Y = np.zeros([dim, nums, nump])\n",
        "\n",
        "\n",
        "start_time = time.time()\n",
        "for i in range(nump):\n",
        "  #Initialize - The particle starts at a random positio outside the target\n",
        "  if dim == 1:\n",
        "    X[:, 0] = Init1D[i]\n",
        "  elif dim == 2:\n",
        "    X[:, 0] = Init2D[:, i]\n",
        "  elif dim == 3:\n",
        "    X[:, 0] = Init3D[:, i]\n",
        "\n",
        "  #Find particle trajectories\n",
        "  for j in range(1, nums):\n",
        "    #Random increment in the position\n",
        "    dRand = Eps[i, j, :]\n",
        "    #Increment if particle is in medium1\n",
        "    dX1 = dX1s[i, j, :]\n",
        "    #Increment if particle is in medium2\n",
        "    dX2 = dX2s[i, j, :]\n",
        "\n",
        "    #Particle hits the target\n",
        "    if R < np.linalg.norm(X[:, j - 1]) < R1 and np.linalg.norm(X[:, j - 1] + dX1) < R:\n",
        "      X[:, j] = X[:, j - 1] + dX1\n",
        "      X[:, j+1:] = -1\n",
        "      hittingTime[i] = j\n",
        "      break\n",
        "\n",
        "    #Particle travels in medium1, without hitting the target\n",
        "    elif R < np.linalg.norm(X[:, j - 1]) < R1 and R < np.linalg.norm(X[:, j - 1] + dX1) < R1:\n",
        "      X[:, j] = X[:, j - 1] + dX1\n",
        "\n",
        "    #Particle is traveling in medium2\n",
        "    elif R1 < np.linalg.norm(X[:, j - 1]) < R2 and R1 < np.linalg.norm(X[:, j - 1] + dX2) < R2:\n",
        "      X[:, j] = X[:, j - 1] + dX2\n",
        "\n",
        "    #Particle is reflected by the outer ball when its next step crosses the bound R2\n",
        "    elif R1 < np.linalg.norm(X[:, j - 1]) < R2 and np.linalg.norm(X[:, j - 1] + dX2) > R2:\n",
        "      #Find the point of reflection\n",
        "      lamb = ( -np.dot(X[:, j - 1], dX2) + np.sqrt(np.dot(X[:, j - 1], dX2)**2 - (np.linalg.norm(dX2)**2)*(np.linalg.norm(X[:, j - 1])**2 - R2**2)) )/(np.linalg.norm(dX2)**2)\n",
        "      r0 = X[:, j - 1] + lamb*dX2\n",
        "      #Image in D2\n",
        "      X[:, j] = X[:, j - 1] + dX2 - 2*(1 - lamb)*np.dot(dX2, r0/np.linalg.norm(r0)) * r0/np.linalg.norm(r0)\n",
        "\n",
        "    #Particle diffuses from D1 to D2 with a one sided reflection coefficient\n",
        "    elif R < np.linalg.norm(X[:, j - 1]) < R1 and np.linalg.norm(X[:, j - 1] + dX1) > R1:\n",
        "      #Find the point of diffusion/reflection\n",
        "      lamb = ( -np.dot(X[:, j - 1], dX1) + np.sqrt(np.dot(X[:, j - 1], dX1)**2 - (np.linalg.norm(dX1)**2)*(np.linalg.norm(X[:, j - 1])**2 - R1**2)) )/(np.linalg.norm(dX1)**2)\n",
        "      r0 = X[:, j - 1] + lamb*dX1\n",
        "      if any(np.linalg.norm(r0 - poreCenters, axis=1) < r):\n",
        "        #If particle's projection on surface of the inner ball is near any pore, diffuse to D2.\n",
        "        if bernoulli.rvs(min(1, math.sqrt(D2/D1))):\n",
        "          #Diffuse with time-splitting, if the random variable generated is 1\n",
        "          #Residence times in each medium\n",
        "          dt1 = (np.linalg.norm(lamb*dX1)/(np.linalg.norm(dRand)*np.sqrt(2*D1)))**2\n",
        "          dt2 = ((1 - np.sqrt(dt1/dt))**2)*dt\n",
        "          #Particle diffuses, increment by motion in D2\n",
        "          X[:, j] = r0 + np.sqrt(2*D2*dt2)*dRand\n",
        "        else:\n",
        "          #Reflect, if the random variable generated is 0\n",
        "          X[:, j] = X[:, j - 1] + dX1 - 2*(1-lamb)*np.dot(dX1, r0/np.linalg.norm(r0))*r0/np.linalg.norm(r0)\n",
        "      else:\n",
        "          #Reflect particle is far from all pores\n",
        "          X[:, j] = X[:, j - 1] + dX1 - 2*(1-lamb)*np.dot(dX1, r0/np.linalg.norm(r0))*r0/np.linalg.norm(r0)\n",
        "\n",
        "    #Particle diffuses from D2 to D1 with a one sided reflection coefficient\n",
        "    elif R1 < np.linalg.norm(X[:, j - 1]) < R2 and np.linalg.norm(X[:, j - 1] + dX2) < R1:\n",
        "      #Find the point of diffusion/reflection\n",
        "      lamb = ( -np.dot(X[:, j - 1], dX2) - np.sqrt(np.dot(X[:, j - 1], dX2)**2 - (np.linalg.norm(dX2)**2)*(np.linalg.norm(X[:, j - 1])**2 - R1**2)) )/(np.linalg.norm(dX2)**2)\n",
        "      r0 = X[:, j - 1] + lamb*dX2\n",
        "      if any(np.linalg.norm(r0 - poreCenters, axis=1) < r):\n",
        "        #If particle's projection on surface of the inner ball is near any pore, diffuse to D2.\n",
        "        if bernoulli.rvs(min(1, math.sqrt(D1/D2))):\n",
        "          #Diffuse with time-splitting, if the random variable generated is 1\n",
        "          #Residence times in each medium\n",
        "          dt2 = (np.linalg.norm(lamb*dX2)/(np.linalg.norm(dRand)*np.sqrt(2*D2)))**2\n",
        "          dt1 = ((1 - np.sqrt(dt2/dt))**2)*dt\n",
        "          #Particle diffuses, increment by motion in D1\n",
        "          X[:, j] = r0 + np.sqrt(2*D1*dt1)*dRand\n",
        "        else:\n",
        "          #Reflect, if the random variable generated is 0\n",
        "          X[:, j] = X[:, j - 1] + dX2 - 2*(1-lamb)*np.dot(dX2, r0/np.linalg.norm(r0))*r0/np.linalg.norm(r0)\n",
        "      else:\n",
        "          #Reflect, if projection is far from all pores\n",
        "          X[:, j] = X[:, j - 1] + dX2 - 2*(1-lamb)*np.dot(dX2, r0/np.linalg.norm(r0))*r0/np.linalg.norm(r0)\n",
        "\n",
        "  #Save the particle's trajectory\n",
        "  Y[:, :, i] = X\n",
        "  #print(i)\n",
        "\n",
        "#Time taken to simulate motion of nump particles each taking nums steps\n",
        "print(\"nump = \", nump, \"nums = \", nums, \"--- %s seconds ---\" % (time.time() - start_time))"
      ]
    },
    {
      "cell_type": "markdown",
      "metadata": {
        "id": "2c2hT_KVWJzZ"
      },
      "source": [
        "# Plots"
      ]
    },
    {
      "cell_type": "code",
      "execution_count": null,
      "metadata": {
        "colab": {
          "background_save": true
        },
        "id": "_DV4pB5HWJzf"
      },
      "outputs": [],
      "source": [
        "#Histogram hitting times and plot MFPT\n",
        "hit = hittingTime[hittingTime != 0]\n",
        "#Should zero be removed for MFPT calculation?\n",
        "MFPT = np.average(hit)\n",
        "print(\"Mean First Passage Time = \", MFPT)\n",
        "plt.plot(np.tile(MFPT, int(max(plt.hist(hit, 30)[0]))), range(int(max(plt.hist(hit, 30)[0]))), label=\"MFPT\")\n",
        "#plt.hist(hit, 30, label=\"Zero removed\")\n",
        "#plt.hist(hittingTime, 30, label=\"Zero inflated\")\n",
        "plt.ylabel(\"Frequency\")\n",
        "plt.xlabel(\"hittingTime, nums\")\n",
        "plt.title(\"Hitting times and MFPT\")\n",
        "plt.legend()\n",
        "plt.show()\n",
        "#plt.savefig('/content/drive/MyDrive/Images/Hit_Iso_1_10.png')"
      ]
    },
    {
      "cell_type": "code",
      "execution_count": null,
      "metadata": {
        "colab": {
          "background_save": true
        },
        "id": "d8iu9lDPWJzc"
      },
      "outputs": [],
      "source": [
        "#Probability of finding a particle in medium1 or medium2 or hiting the target\n",
        "count1 = np.zeros(nums)\n",
        "count2 = np.zeros(nums)\n",
        "count3 = np.zeros(nums)\n",
        "for t in range(nums):\n",
        "  for p in range(nump):\n",
        "    \"\"\"Here it matters if I set a hitting particle to -1 or stick it there\"\"\"\n",
        "    count3[t] += np.count_nonzero((0 < np.linalg.norm(Y[:, t, p])) & (np.linalg.norm(Y[:, t, p]) < R))\n",
        "    count1[t] += np.count_nonzero((R < np.linalg.norm(Y[:, t, p])) & (np.linalg.norm(Y[:, t, p]) < R1))\n",
        "    count2[t] += np.count_nonzero((R1 < np.linalg.norm(Y[:, t, p])) & (np.linalg.norm(Y[:, t, p]) < R2))\n",
        "\n",
        "xticks = np.linspace(1/nums, 1, nums)\n",
        "yticks = np.linspace(1/nums, 1, nums)\n",
        "plt.yscale(\"log\")\n",
        "plt.plot(count1/nump)\n",
        "plt.plot(count2/nump)\n",
        "plt.plot((count1 + count2)/nump)\n",
        "plt.plot(count3/nump)\n",
        "plt.plot(np.tile(MFPT/nums, nums))\n",
        "plt.legend([\"In D1\", \"In D2\", \"In D1 or D2\", \"Hit target\",\"MFPT\"])\n",
        "plt.ylabel(\"t, Time step\")\n",
        "plt.xlabel(\"Pr(t), Probability at time t\")\n",
        "plt.show()\n",
        "#plt.savefig('/content/drive/MyDrive/Images/Prob_Iso_1_10.png')"
      ]
    },
    {
      "cell_type": "code",
      "execution_count": null,
      "metadata": {
        "colab": {
          "background_save": true
        },
        "id": "v8gvZ1mgWJzj"
      },
      "outputs": [],
      "source": [
        "gridX = 100\n",
        "gridT = nums\n",
        "pos = np.round(np.linspace(0, 1, gridX + 1), 2)\n",
        "tim = np.linspace(0, gridT, gridT+1)\n",
        "PDF1D = np.zeros((gridT, gridX+1))\n",
        "\n",
        "#Derive a heatmap of the particles\n",
        "#Find the norm of particles at each time step\n",
        "Z = np.linalg.norm(Y/R2, axis=0)\n",
        "\n",
        "#Quantize it to 2 ( = log10(gridX)) decimal places as grix X is with such precision\n",
        "Z = np.round(Z, 2)\n",
        "\n",
        "for t in range(nums):\n",
        "#position of all particles at time t\n",
        "  for p in range(len(pos)):\n",
        "    PDF1D[t][p] = np.count_nonzero(Z[t, :] == pos[p])\n",
        "\n",
        "#Plot the heatmap of pdf\n",
        "plt.title(\"Joint PDF of particles, P(x, t)\")\n",
        "#PDF1D is a 2D matrix with (0,0)th element on top left. Fip vertically\n",
        "plt.yscale('log')\n",
        "plt.imshow(np.flipud(PDF1D/nump), cmap = 'flag', extent = [0, 1, dt, dt*nums], aspect = \"auto\")\n",
        "plt.xlabel(\"Distance, norm(x)\")\n",
        "plt.ylabel(\"Time, t\")\n",
        "plt.colorbar()"
      ]
    },
    {
      "cell_type": "markdown",
      "metadata": {
        "id": "IJRe8ZsY1ArJ"
      },
      "source": [
        "# D1 = 10, D2 = 1"
      ]
    },
    {
      "cell_type": "markdown",
      "metadata": {
        "id": "qCJIGjXbwtty"
      },
      "source": [
        "#Simulate Ito Convention"
      ]
    },
    {
      "cell_type": "code",
      "execution_count": null,
      "metadata": {
        "colab": {
          "background_save": true
        },
        "id": "Y9tb9qqO3yBO"
      },
      "outputs": [],
      "source": [
        "#Diffusivity of inner medium\n",
        "D1 = 10\n",
        "#Diffusivity of outer medium\n",
        "D2 = 1\n",
        "\n",
        "#Hitting times if the target is hit\n",
        "hittingTime = np.zeros(nump)\n",
        "#Trajectory of a particle\n",
        "X = np.zeros([dim, nums])\n",
        "#Trajectories of all particles\n",
        "Y = np.zeros([dim, nums, nump])"
      ]
    },
    {
      "cell_type": "code",
      "execution_count": null,
      "metadata": {
        "colab": {
          "background_save": true
        },
        "id": "LB3uz2VEwtt9"
      },
      "outputs": [],
      "source": [
        "start_time = time.time()\n",
        "for i in range(nump):\n",
        "  #Initialize - The particle starts at a random position outside the target\n",
        "  if dim == 1:\n",
        "    X[:, 0] = Init1D[i]\n",
        "  if dim == 2:\n",
        "    X[:, 0] = Init2D[:, i]\n",
        "  elif dim == 3:\n",
        "    X[:, 0] = Init3D[:, i]\n",
        "\n",
        "  #Find particle trajectories\n",
        "  for j in range(1, nums):\n",
        "    #Random increment in the position\n",
        "    dRand = Eps[i, j, :]\n",
        "    #Increment if particle is in medium1\n",
        "    dX1 = dX1s[i, j, :]\n",
        "    #Increment if particle is in medium2\n",
        "    dX2 = dX2s[i, j, :]\n",
        "\n",
        "    #Particle hits the target\n",
        "    if R < np.linalg.norm(X[:, j - 1]) < R1 and np.linalg.norm(X[:, j - 1] + dX1) < R:\n",
        "      X[:, j] = X[:, j - 1] + dX1\n",
        "      #For plotting\n",
        "      hittingTime[i] = j\n",
        "      \"\"\"TODO - How to remove the particle once it hits the target?\"\"\"\n",
        "      X[:, j+1:] = -1\n",
        "      #print(j, \"Hit\", X[:, j], np.linalg.norm(X[:, j]), np.linalg.norm(X[:, j] - X[:, j-1]))\n",
        "      break\n",
        "\n",
        "    #Particle is traveling in medium1 outside the target\n",
        "    elif R < np.linalg.norm(X[:, j - 1]) < R1 and R < np.linalg.norm(X[:, j - 1] + dX1) < R1:\n",
        "      X[:, j] = X[:, j - 1] + dX1\n",
        "\n",
        "    #Particle is traveling in medium2, without hitting the reflecting boundary\n",
        "    elif R1 < np.linalg.norm(X[:, j - 1]) < R2 and R1 < np.linalg.norm(X[:, j - 1] + dX2) < R2:\n",
        "      X[:, j] = X[:, j - 1] + dX2\n",
        "\n",
        "    #Particle is reflected by the outer ball when its next step crosses the bound R2 - Reflect in D2\n",
        "    #https://math.stackexchange.com/questions/13261/how-to-get-a-reflection-vector\n",
        "    elif R1 < np.linalg.norm(X[:, j - 1]) < R2 and np.linalg.norm(X[:, j - 1] + dX2) > R2:\n",
        "      #Find the point of reflection\n",
        "      lamb = ( -np.dot(X[:, j - 1], dX2) + np.sqrt(np.dot(X[:, j - 1], dX2)**2 - (np.linalg.norm(dX2)**2)*(np.linalg.norm(X[:, j - 1])**2 - R2**2)) )/(np.linalg.norm(dX2)**2)\n",
        "      r0 = X[:, j - 1] + lamb*dX2\n",
        "      #Image in D2\n",
        "      X[:, j] = X[:, j - 1] + dX2 - 2*(1-lamb)*np.dot(dX2, r0/np.linalg.norm(r0))*r0/np.linalg.norm(r0)\n",
        "\n",
        "    elif R < np.linalg.norm(X[:, j - 1]) < R1 and np.linalg.norm(X[:, j - 1] + dX1) > R1:\n",
        "      #Find the point of reflection/diffusion\n",
        "      lamb = ( -np.dot(X[:, j - 1], dX1) + np.sqrt(np.dot(X[:, j - 1], dX1)**2 - (np.linalg.norm(dX1)**2)*(np.linalg.norm(X[:, j - 1])**2 - R1**2)) )/(np.linalg.norm(dX1)**2)\n",
        "      r0 = X[:, j - 1] + lamb*dX1\n",
        "      if any(np.linalg.norm(r0 - poreCenters, axis=1) < r):\n",
        "        #If particle's projection on surface of the inner ball is near any pore, diffuse to D2.\n",
        "        X[:, j] = X[:, j - 1] + dX1\n",
        "      else:\n",
        "        #Particle is reflected by inner ball when it's near the media boundary and far from all the pores\n",
        "        #Image in D1\n",
        "        X[:, j] = X[:, j - 1] + dX1 - 2*(1-lamb)*np.dot(dX1, r0/np.linalg.norm(r0))*r0/np.linalg.norm(r0)\n",
        "        #print(j, \"Reflection in D1\", X[:, j], np.linalg.norm(X[:, j]), np.linalg.norm(X[:, j] - X[:, j-1]))\n",
        "\n",
        "    elif R1 < np.linalg.norm(X[:, j - 1]) < R2 and np.linalg.norm(X[:, j - 1] + dX2) < R1:\n",
        "      #Find the point of reflection/diffusion\n",
        "      lamb = ( -np.dot(X[:, j - 1], dX2) - np.sqrt(np.dot(X[:, j - 1], dX2)**2 - (np.linalg.norm(dX2)**2)*(np.linalg.norm(X[:, j - 1])**2 - R1**2)) )/(np.linalg.norm(dX2)**2)\n",
        "      r0 = X[:, j - 1] + lamb*dX2\n",
        "      #If particle projected on surface of ball 1 is near a pore, diffuse to D1. Else reflect it\n",
        "      if any(np.linalg.norm(r0 - poreCenters, axis=1) < r):\n",
        "        #Diffuse to D1 via a pore\n",
        "        X[:, j] = X[:, j - 1] + dX1\n",
        "      else:\n",
        "        #Reflect - Image in D2\n",
        "        X[:, j] = X[:, j - 1] + dX2 - 2*(1-lamb)*np.dot(dX2, r0/np.linalg.norm(r0))*r0/np.linalg.norm(r0)\n",
        "        #print(j, \"Reflection in D2\", X[:, j], np.linalg.norm(X[:, j]), np.linalg.norm(X[:, j] - X[:, j-1]))\n",
        "  #Save the particle's trajectory\n",
        "  Y[:, :, i] = X\n",
        "  #print(i)\n",
        "\n",
        "#Time taken to simulate motion of nump particles each taking nums steps\n",
        "print(\"nump = \", nump, \"nums = \", nums, \"--- %s seconds ---\" % (time.time() - start_time))"
      ]
    },
    {
      "cell_type": "markdown",
      "metadata": {
        "id": "6LSB8S3hwtt_"
      },
      "source": [
        "# Plots"
      ]
    },
    {
      "cell_type": "code",
      "execution_count": null,
      "metadata": {
        "colab": {
          "background_save": true
        },
        "id": "jlJf_GgLwtt_"
      },
      "outputs": [],
      "source": [
        "#Histogram hitting times and plot MFPT\n",
        "hit = hittingTime[hittingTime != 0]\n",
        "#Should zero be removed for MFPT calculation?\n",
        "MFPT = np.average(hit)\n",
        "print(\"Mean First Passage Time = \", MFPT)\n",
        "plt.plot(np.tile(MFPT, int(max(plt.hist(hit, 30)[0]))), range(int(max(plt.hist(hit, 30)[0]))), label=\"MFPT\")\n",
        "#plt.hist(hit, 30, label=\"Zero removed\")\n",
        "#plt.hist(hittingTime, 30, label=\"Zero inflated\")\n",
        "plt.ylabel(\"Frequency\")\n",
        "plt.xlabel(\"hittingTime, nums\")\n",
        "plt.title(\"Hitting times and MFPT\")\n",
        "plt.legend()\n",
        "plt.show()\n",
        "#plt.savefig('/content/drive/MyDrive/Images/Hit_Ito_1_10.png')"
      ]
    },
    {
      "cell_type": "code",
      "execution_count": null,
      "metadata": {
        "colab": {
          "background_save": true
        },
        "id": "kU3AISkMwtuA"
      },
      "outputs": [],
      "source": [
        "#Probability of finding a particle in medium1 or medium2 or hiting the target\n",
        "count1 = np.zeros(nums)\n",
        "count2 = np.zeros(nums)\n",
        "count3 = np.zeros(nums)\n",
        "for t in range(nums):\n",
        "  for p in range(nump):\n",
        "    \"\"\"Here it matters if I set a hitting particle to -1 or stick it there\"\"\"\n",
        "    count3[t] += np.count_nonzero((0 < np.linalg.norm(Y[:, t, p])) & (np.linalg.norm(Y[:, t, p]) < R))\n",
        "    count1[t] += np.count_nonzero((R < np.linalg.norm(Y[:, t, p])) & (np.linalg.norm(Y[:, t, p]) < R1))\n",
        "    count2[t] += np.count_nonzero((R1 < np.linalg.norm(Y[:, t, p])) & (np.linalg.norm(Y[:, t, p]) < R2))\n",
        "\n",
        "xticks = np.linspace(1/nums, 1, nums)\n",
        "yticks = np.linspace(1/nums, 1, nums)\n",
        "plt.yscale(\"log\")\n",
        "plt.plot(count1/nump)\n",
        "plt.plot(count2/nump)\n",
        "plt.plot((count1 + count2)/nump)\n",
        "plt.plot(count3/nump)\n",
        "plt.plot(np.tile(MFPT/nums, nums))\n",
        "plt.legend([\"In D1\", \"In D2\", \"In D1 or D2\", \"Hit target\",\"MFPT\"])\n",
        "plt.ylabel(\"t, Time step\")\n",
        "plt.xlabel(\"Pr(t), Probability at time t\")\n",
        "plt.show()"
      ]
    },
    {
      "cell_type": "code",
      "execution_count": null,
      "metadata": {
        "colab": {
          "background_save": true
        },
        "id": "1K8Gb2O2wtuA"
      },
      "outputs": [],
      "source": [
        "#Probability of finding a particle in medium1 or medium2 or hiting the target\n",
        "count1 = np.zeros(nums)\n",
        "count2 = np.zeros(nums)\n",
        "count3 = np.zeros(nums)\n",
        "for t in range(nums):\n",
        "  for p in range(nump):\n",
        "    count3[t] += np.count_nonzero((0 < np.linalg.norm(Y[:, t, p])) & (np.linalg.norm(Y[:, t, p]) < R))\n",
        "    count1[t] += np.count_nonzero((R < np.linalg.norm(Y[:, t, p])) & (np.linalg.norm(Y[:, t, p]) < R1))\n",
        "    count2[t] += np.count_nonzero((R1 < np.linalg.norm(Y[:, t, p])) & (np.linalg.norm(Y[:, t, p]) < R2))\n",
        "\n",
        "xticks = np.linspace(1/nums, 1, nums)\n",
        "yticks = np.linspace(1/nums, 1, nums)\n",
        "plt.yscale(\"log\")\n",
        "plt.plot(count1/nump)\n",
        "plt.plot(count2/nump)\n",
        "plt.plot((count1 + count2)/nump)\n",
        "plt.plot(count3/nump)\n",
        "plt.plot(np.tile(MFPT/nums, nums))\n",
        "plt.legend([\"In D1\", \"In D2\", \"In D1 or D2\", \"Hit target\",\"MFPT\"])\n",
        "plt.ylabel(\"t, Time step\")\n",
        "plt.xlabel(\"Pr(t), Probability at time t\")\n",
        "plt.show()"
      ]
    },
    {
      "cell_type": "code",
      "execution_count": null,
      "metadata": {
        "colab": {
          "background_save": true
        },
        "id": "1aAHWchywtuB"
      },
      "outputs": [],
      "source": [
        "gridX = 100\n",
        "gridT = nums\n",
        "pos = np.round(np.linspace(0, 1, gridX + 1), 2)\n",
        "tim = np.linspace(0, gridT, gridT+1)\n",
        "PDF1D = np.zeros((gridT, gridX+1))\n",
        "\n",
        "#Derive a heatmap of the particles\n",
        "#Find the norm of particles at each time step - reduce dimension of Y[dim][time][particle] to Z[norm or distance][time]\n",
        "\"\"\"Scale by R2 if necessary but I suspect it is wrong to do so, plots are not as expected for (R1, R2) = (5, 10) as for (0.5, 1)\"\"\"\n",
        "Z = np.linalg.norm(Y/R2, axis=0)\n",
        "\n",
        "#Quantize it to 2 ( = log10(gridX)) decimal places as grix X is with such precision\n",
        "Z = np.round(Z, 2)\n",
        "\n",
        "for t in range(nums):\n",
        "#position of all particles at time t\n",
        "  for p in range(len(pos)):\n",
        "    PDF1D[t][p] = np.count_nonzero(Z[t, :] == pos[p])\n",
        "\n",
        "#Plot the heatmap of pdf\n",
        "plt.title(\"Joint PDF of particles, P(x, t)\")\n",
        "#PDF1D is a 2D matrix with (0,0)th element on top left. Fip vertically\n",
        "plt.yscale('log')\n",
        "plt.imshow(np.flipud(PDF1D/nump), cmap = 'flag', extent = [0, 1, dt, dt*nums], aspect = \"auto\")\n",
        "plt.xlabel(\"Distance, norm(x)\")\n",
        "plt.ylabel(\"Time, t\")\n",
        "plt.colorbar()\n",
        "\n",
        "#print(Z)\n",
        "\"\"\"Here ALSO it matters if I set a hitting particle to -1 or stick it there norm of hit particles is 1.41\"\"\"\n",
        "\n",
        "\"\"\"\n",
        "W = np.zeros((nums, nump))\n",
        "#Quantize norm matrix Y for heatmap upto 2 decimal places\n",
        "\n",
        "for t in range(nums):\n",
        "  for p in range(nump):\n",
        "    W[t][p] = np.linalg.norm(Z[:, t, p])\n",
        "\"\"\"\n",
        "#print(Z)\n",
        "#print(Z.shape)\n",
        "#print(Z[0,:,:])\n",
        "#print(Z[:, 0, :])\n",
        "#print(np.linalg.norm(Z[:, 1, :], axis=0))\n",
        "#print(np.linalg.norm(Z[:, 1, 0]))\n",
        "\n",
        "#W = np.linalg.norm(Z, axis=0)\n",
        "#print(W.shape)\n",
        "#print(W)"
      ]
    },
    {
      "cell_type": "markdown",
      "metadata": {
        "id": "iHG5rohfwtuB"
      },
      "source": [
        "#Simulate Stratonovich Convention"
      ]
    },
    {
      "cell_type": "code",
      "execution_count": null,
      "metadata": {
        "colab": {
          "background_save": true
        },
        "id": "tkPA5S5wwtuC"
      },
      "outputs": [],
      "source": [
        "#Hitting times if the target is hit\n",
        "hittingTime = np.zeros(nump)\n",
        "#Trajectory of a particle\n",
        "X = np.zeros([dim, nums])\n",
        "#Trajectories of all particles\n",
        "Y = np.zeros([dim, nums, nump])\n",
        "\n",
        "\n",
        "start_time = time.time()\n",
        "for i in range(nump):\n",
        "  #Initialize - The particle starts at a random positio outside the target\n",
        "  if dim == 1:\n",
        "    X[:, 0] = Init1D[i]\n",
        "  elif dim == 2:\n",
        "    X[:, 0] = Init2D[:, i]\n",
        "  elif dim == 3:\n",
        "    X[:, 0] = Init3D[:, i]\n",
        "\n",
        "  #Find particle trajectories\n",
        "  for j in range(1, nums):\n",
        "    #Random increment in the position\n",
        "    dRand = Eps[i, j, :]\n",
        "    #Increment if particle is in medium1\n",
        "    dX1 = dX1s[i, j, :]\n",
        "    #Increment if particle is in medium2\n",
        "    dX2 = dX2s[i, j, :]\n",
        "\n",
        "    #Particle travels in medium1, without hitting the target\n",
        "    if R < np.linalg.norm(X[:, j - 1]) < R1 and R < np.linalg.norm(X[:, j - 1] + dX1) < R1:\n",
        "      X[:, j] = X[:, j - 1] + dX1\n",
        "\n",
        "    #Particle is traveling in medium2\n",
        "    elif R1 < np.linalg.norm(X[:, j - 1]) < R2 and R1 < np.linalg.norm(X[:, j - 1] + dX2) < R2:\n",
        "      X[:, j] = X[:, j - 1] + dX2\n",
        "\n",
        "    #Particle is reflected by the outer ball when its next step crosses the bound R2\n",
        "    elif R1 < np.linalg.norm(X[:, j - 1]) < R2 and np.linalg.norm(X[:, j - 1] + dX2) > R2:\n",
        "      #Find the point of reflection\n",
        "      lamb = ( -np.dot(X[:, j - 1], dX2) + np.sqrt(np.dot(X[:, j - 1], dX2)**2 - (np.linalg.norm(dX2)**2)*(np.linalg.norm(X[:, j - 1])**2 - R2**2)) )/(np.linalg.norm(dX2)**2)\n",
        "      r0 = X[:, j - 1] + lamb*dX2\n",
        "      #Image in D2\n",
        "      X[:, j] = X[:, j - 1] + dX2 - 2*(1 - lamb)*np.dot(dX2, r0/np.linalg.norm(r0)) * r0/np.linalg.norm(r0)\n",
        "\n",
        "    elif R < np.linalg.norm(X[:, j - 1]) < R1 and np.linalg.norm(X[:, j - 1] + dX1) > R1:\n",
        "      #Find the point of reflection/diffusion\n",
        "      lamb = ( -np.dot(X[:, j - 1], dX1) + np.sqrt(np.dot(X[:, j - 1], dX1)**2 - (np.linalg.norm(dX1)**2)*(np.linalg.norm(X[:, j - 1])**2 - R1**2)) )/(np.linalg.norm(dX1)**2)\n",
        "      r0 = X[:, j - 1] + lamb*dX1\n",
        "      if any(np.linalg.norm(r0 - poreCenters, axis=1) < r):\n",
        "        #If particle's projection on surface of the inner ball is near any pore, diffuse to D2.\n",
        "        #Residence times in each medium\n",
        "        dt1 = (np.linalg.norm(lamb*dX1)/(np.linalg.norm(dRand)*np.sqrt(2*D1)))**2\n",
        "        dt2 = ((1 - np.sqrt(dt1/dt))**2)*dt\n",
        "        #Particle diffuses, increment by motion in D2\n",
        "        X[:, j] = r0 + np.sqrt(2*D2*dt2)*dRand\n",
        "        #print(j, \"Diffusion from D1 to D2\", dt1, dt2, dt, X[:, j], np.linalg.norm(X[:, j]), np.linalg.norm(X[:, j] - X[:, j-1]))\n",
        "        #print(X[:, j-1])\n",
        "        #print(X[:, j])\n",
        "      else:\n",
        "        #Particle is reflected by inner ball when it's near the media boundary and far from all the pores\n",
        "        #Image in D1\n",
        "        X[:, j] = X[:, j - 1] + dX1 - 2*(1-lamb)*np.dot(dX1, r0/np.linalg.norm(r0))*r0/np.linalg.norm(r0)\n",
        "        #print(j, \"Reflection in D1\", X[:, j], np.linalg.norm(X[:, j]), np.linalg.norm(X[:, j] - X[:, j-1]))\n",
        "\n",
        "    elif R1 < np.linalg.norm(X[:, j - 1]) < R2 and np.linalg.norm(X[:, j - 1] + dX2) < R1:\n",
        "      #Find the point of reflection/diffusion\n",
        "      lamb = ( -np.dot(X[:, j - 1], dX2) - np.sqrt(np.dot(X[:, j - 1], dX2)**2 - (np.linalg.norm(dX2)**2)*(np.linalg.norm(X[:, j - 1])**2 - R1**2)) )/(np.linalg.norm(dX2)**2)\n",
        "      r0 = X[:, j - 1] + lamb*dX2\n",
        "      #If particle projected on surface of ball 1 is near a pore, diffuse to D1. Else reflect it\n",
        "      if any(np.linalg.norm(r0 - poreCenters, axis=1) < r):\n",
        "        #Residence times in each medium\n",
        "        dt2 = (np.linalg.norm(lamb*dX2)/(np.linalg.norm(dRand)*np.sqrt(2*D2)))**2\n",
        "        dt1 = ((1 - np.sqrt(dt2/dt))**2)*dt\n",
        "        #Particle diffuses, increment by motion in D1\n",
        "        X[:, j] = r0 + np.sqrt(2*D1*dt1)*dRand\n",
        "        #print(j, \"Diffusion from D2 to D1\", dt1, dt2, dt, X[:, j], np.linalg.norm(X[:, j]), np.linalg.norm(X[:, j] - X[:, j-1]))\n",
        "      else:\n",
        "        #Image in D2\n",
        "        X[:, j] = X[:, j - 1] + dX2 - 2*(1-lamb)*np.dot(dX2, r0/np.linalg.norm(r0))*r0/np.linalg.norm(r0)\n",
        "        #print(j, \"Reflection in D2\", X[:, j], np.linalg.norm(X[:, j]), np.linalg.norm(X[:, j] - X[:, j-1]))\n",
        "\n",
        "    #Particle hits the target\n",
        "    elif R < np.linalg.norm(X[:, j - 1]) < R1 and np.linalg.norm(X[:, j - 1] + dX1) < R:\n",
        "      X[:, j] = X[:, j - 1] + dX1\n",
        "      X[:, j+1:] = -1\n",
        "      hittingTime[i] = j\n",
        "      break\n",
        "\n",
        "  #Save the particle's trajectory\n",
        "  Y[:, :, i] = X\n",
        "  #print(i)\n",
        "\n",
        "#Time taken to simulate motion of nump particles each taking nums steps\n",
        "print(\"nump = \", nump, \"nums = \", nums, \"--- %s seconds ---\" % (time.time() - start_time))"
      ]
    },
    {
      "cell_type": "markdown",
      "metadata": {
        "id": "Ng_xf5jZwtuD"
      },
      "source": [
        "# Plots"
      ]
    },
    {
      "cell_type": "code",
      "execution_count": null,
      "metadata": {
        "colab": {
          "background_save": true
        },
        "id": "rZHZaZ_9wtuE"
      },
      "outputs": [],
      "source": [
        "#Histogram hitting times and plot MFPT\n",
        "hit = hittingTime[hittingTime != 0]\n",
        "#Should zero be removed for MFPT calculation?\n",
        "MFPT = np.average(hit)\n",
        "print(\"Mean First Passage Time = \", MFPT)\n",
        "plt.plot(np.tile(MFPT, int(max(plt.hist(hit, 30)[0]))), range(int(max(plt.hist(hit, 30)[0]))), label=\"MFPT\")\n",
        "#plt.hist(hit, 30, label=\"Zero removed\")\n",
        "#plt.hist(hittingTime, 30, label=\"Zero inflated\")\n",
        "plt.ylabel(\"Frequency\")\n",
        "plt.xlabel(\"hittingTime, nums\")\n",
        "plt.title(\"Hitting times and MFPT\")\n",
        "plt.legend()\n",
        "plt.show()\n",
        "#plt.savefig('/content/drive/MyDrive/Images/Hit_Strat_1_10.png')"
      ]
    },
    {
      "cell_type": "code",
      "execution_count": null,
      "metadata": {
        "colab": {
          "background_save": true
        },
        "id": "RVN_h_sUwtuE"
      },
      "outputs": [],
      "source": [
        "#Probability of finding a particle in medium1 or medium2 or hiting the target\n",
        "count1 = np.zeros(nums)\n",
        "count2 = np.zeros(nums)\n",
        "count3 = np.zeros(nums)\n",
        "for t in range(nums):\n",
        "  for p in range(nump):\n",
        "    \"\"\"Here it matters if I set a hitting particle to -1 or stick it there\"\"\"\n",
        "    count3[t] += np.count_nonzero((0 < np.linalg.norm(Y[:, t, p])) & (np.linalg.norm(Y[:, t, p]) < R))\n",
        "    count1[t] += np.count_nonzero((R < np.linalg.norm(Y[:, t, p])) & (np.linalg.norm(Y[:, t, p]) < R1))\n",
        "    count2[t] += np.count_nonzero((R1 < np.linalg.norm(Y[:, t, p])) & (np.linalg.norm(Y[:, t, p]) < R2))\n",
        "\n",
        "xticks = np.linspace(1/nums, 1, nums)\n",
        "yticks = np.linspace(1/nums, 1, nums)\n",
        "plt.yscale(\"log\")\n",
        "plt.plot(count1/nump)\n",
        "plt.plot(count2/nump)\n",
        "plt.plot((count1 + count2)/nump)\n",
        "plt.plot(count3/nump)\n",
        "plt.plot(np.tile(MFPT/nums, nums))\n",
        "plt.legend([\"In D1\", \"In D2\", \"In D1 or D2\", \"Hit target\",\"MFPT\"])\n",
        "plt.ylabel(\"t, Time step\")\n",
        "plt.xlabel(\"Pr(t), Probability at time t\")\n",
        "plt.show()\n",
        "#plt.savefig('/content/drive/MyDrive/Images/Prob_Strat_1_10.png')"
      ]
    },
    {
      "cell_type": "code",
      "execution_count": null,
      "metadata": {
        "colab": {
          "background_save": true
        },
        "id": "PevduZR7wtuF"
      },
      "outputs": [],
      "source": [
        "gridX = 100\n",
        "gridT = nums\n",
        "pos = np.round(np.linspace(0, 1, gridX + 1), 2)\n",
        "tim = np.linspace(0, gridT, gridT+1)\n",
        "PDF1D = np.zeros((gridT, gridX+1))\n",
        "\n",
        "#Derive a heatmap of the particles\n",
        "#Find the norm of particles at each time step\n",
        "Z = np.linalg.norm(Y/R2, axis=0)\n",
        "\n",
        "#Quantize it to 2 ( = log10(gridX)) decimal places as grix X is with such precision\n",
        "Z = np.round(Z, 2)\n",
        "\n",
        "for t in range(nums):\n",
        "#position of all particles at time t\n",
        "  for p in range(len(pos)):\n",
        "    PDF1D[t][p] = np.count_nonzero(Z[t, :] == pos[p])\n",
        "\n",
        "#Plot the heatmap of pdf\n",
        "plt.title(\"Joint PDF of particles, P(x, t)\")\n",
        "#PDF1D is a 2D matrix with (0,0)th element on top left. Fip vertically\n",
        "plt.yscale('log')\n",
        "plt.imshow(np.flipud(PDF1D/nump), cmap = 'flag', extent = [0, 1, dt, dt*nums], aspect = \"auto\")\n",
        "plt.xlabel(\"Distance, norm(x)\")\n",
        "plt.ylabel(\"Time, t\")\n",
        "plt.colorbar()"
      ]
    },
    {
      "cell_type": "markdown",
      "metadata": {
        "id": "hYEnxMEawtuF"
      },
      "source": [
        "# Simulate Isothermal Convention"
      ]
    },
    {
      "cell_type": "code",
      "execution_count": null,
      "metadata": {
        "colab": {
          "background_save": true
        },
        "id": "WNpM8jMkwtuG"
      },
      "outputs": [],
      "source": [
        "#Hitting times if the target is hit\n",
        "hittingTime = np.zeros(nump)\n",
        "#Trajectory of a particle\n",
        "X = np.zeros([dim, nums])\n",
        "#Trajectories of all particles\n",
        "Y = np.zeros([dim, nums, nump])\n",
        "\n",
        "\n",
        "start_time = time.time()\n",
        "for i in range(nump):\n",
        "  #Initialize - The particle starts at a random positio outside the target\n",
        "  if dim == 1:\n",
        "    X[:, 0] = Init1D[i]\n",
        "  elif dim == 2:\n",
        "    X[:, 0] = Init2D[:, i]\n",
        "  elif dim == 3:\n",
        "    X[:, 0] = Init3D[:, i]\n",
        "\n",
        "  #Find particle trajectories\n",
        "  for j in range(1, nums):\n",
        "    #Random increment in the position\n",
        "    dRand = Eps[i, j, :]\n",
        "    #Increment if particle is in medium1\n",
        "    dX1 = dX1s[i, j, :]\n",
        "    #Increment if particle is in medium2\n",
        "    dX2 = dX2s[i, j, :]\n",
        "\n",
        "    #Particle hits the target\n",
        "    if R < np.linalg.norm(X[:, j - 1]) < R1 and np.linalg.norm(X[:, j - 1] + dX1) < R:\n",
        "      X[:, j] = X[:, j - 1] + dX1\n",
        "      X[:, j+1:] = -1\n",
        "      hittingTime[i] = j\n",
        "      break\n",
        "\n",
        "    #Particle travels in medium1, without hitting the target\n",
        "    elif R < np.linalg.norm(X[:, j - 1]) < R1 and R < np.linalg.norm(X[:, j - 1] + dX1) < R1:\n",
        "      X[:, j] = X[:, j - 1] + dX1\n",
        "\n",
        "    #Particle is traveling in medium2\n",
        "    elif R1 < np.linalg.norm(X[:, j - 1]) < R2 and R1 < np.linalg.norm(X[:, j - 1] + dX2) < R2:\n",
        "      X[:, j] = X[:, j - 1] + dX2\n",
        "\n",
        "    #Particle is reflected by the outer ball when its next step crosses the bound R2\n",
        "    elif R1 < np.linalg.norm(X[:, j - 1]) < R2 and np.linalg.norm(X[:, j - 1] + dX2) > R2:\n",
        "      #Find the point of reflection\n",
        "      lamb = ( -np.dot(X[:, j - 1], dX2) + np.sqrt(np.dot(X[:, j - 1], dX2)**2 - (np.linalg.norm(dX2)**2)*(np.linalg.norm(X[:, j - 1])**2 - R2**2)) )/(np.linalg.norm(dX2)**2)\n",
        "      r0 = X[:, j - 1] + lamb*dX2\n",
        "      #Image in D2\n",
        "      X[:, j] = X[:, j - 1] + dX2 - 2*(1 - lamb)*np.dot(dX2, r0/np.linalg.norm(r0)) * r0/np.linalg.norm(r0)\n",
        "\n",
        "    #Particle diffuses from D1 to D2 with a one sided reflection coefficient\n",
        "    elif R < np.linalg.norm(X[:, j - 1]) < R1 and np.linalg.norm(X[:, j - 1] + dX1) > R1:\n",
        "      #Find the point of diffusion/reflection\n",
        "      lamb = ( -np.dot(X[:, j - 1], dX1) + np.sqrt(np.dot(X[:, j - 1], dX1)**2 - (np.linalg.norm(dX1)**2)*(np.linalg.norm(X[:, j - 1])**2 - R1**2)) )/(np.linalg.norm(dX1)**2)\n",
        "      r0 = X[:, j - 1] + lamb*dX1\n",
        "      if any(np.linalg.norm(r0 - poreCenters, axis=1) < r):\n",
        "        #If particle's projection on surface of the inner ball is near any pore, diffuse to D2.\n",
        "        if bernoulli.rvs(min(1, math.sqrt(D2/D1))):\n",
        "          #Diffuse with time-splitting, if the random variable generated is 1\n",
        "          #Residence times in each medium\n",
        "          dt1 = (np.linalg.norm(lamb*dX1)/(np.linalg.norm(dRand)*np.sqrt(2*D1)))**2\n",
        "          dt2 = ((1 - np.sqrt(dt1/dt))**2)*dt\n",
        "          #Particle diffuses, increment by motion in D2\n",
        "          X[:, j] = r0 + np.sqrt(2*D2*dt2)*dRand\n",
        "        else:\n",
        "          #Reflect, if the random variable generated is 0\n",
        "          X[:, j] = X[:, j - 1] + dX1 - 2*(1-lamb)*np.dot(dX1, r0/np.linalg.norm(r0))*r0/np.linalg.norm(r0)\n",
        "      else:\n",
        "          #Reflect particle is far from all pores\n",
        "          X[:, j] = X[:, j - 1] + dX1 - 2*(1-lamb)*np.dot(dX1, r0/np.linalg.norm(r0))*r0/np.linalg.norm(r0)\n",
        "\n",
        "    #Particle diffuses from D2 to D1 with a one sided reflection coefficient\n",
        "    elif R1 < np.linalg.norm(X[:, j - 1]) < R2 and np.linalg.norm(X[:, j - 1] + dX2) < R1:\n",
        "      #Find the point of diffusion/reflection\n",
        "      lamb = ( -np.dot(X[:, j - 1], dX2) - np.sqrt(np.dot(X[:, j - 1], dX2)**2 - (np.linalg.norm(dX2)**2)*(np.linalg.norm(X[:, j - 1])**2 - R1**2)) )/(np.linalg.norm(dX2)**2)\n",
        "      r0 = X[:, j - 1] + lamb*dX2\n",
        "      if any(np.linalg.norm(r0 - poreCenters, axis=1) < r):\n",
        "        #If particle's projection on surface of the inner ball is near any pore, diffuse to D2.\n",
        "        if bernoulli.rvs(min(1, math.sqrt(D1/D2))):\n",
        "          #Diffuse with time-splitting, if the random variable generated is 1\n",
        "          #Residence times in each medium\n",
        "          dt2 = (np.linalg.norm(lamb*dX2)/(np.linalg.norm(dRand)*np.sqrt(2*D2)))**2\n",
        "          dt1 = ((1 - np.sqrt(dt2/dt))**2)*dt\n",
        "          #Particle diffuses, increment by motion in D1\n",
        "          X[:, j] = r0 + np.sqrt(2*D1*dt1)*dRand\n",
        "        else:\n",
        "          #Reflect, if the random variable generated is 0\n",
        "          X[:, j] = X[:, j - 1] + dX2 - 2*(1-lamb)*np.dot(dX2, r0/np.linalg.norm(r0))*r0/np.linalg.norm(r0)\n",
        "      else:\n",
        "          #Reflect, if projection is far from all pores\n",
        "          X[:, j] = X[:, j - 1] + dX2 - 2*(1-lamb)*np.dot(dX2, r0/np.linalg.norm(r0))*r0/np.linalg.norm(r0)\n",
        "\n",
        "  #Save the particle's trajectory\n",
        "  Y[:, :, i] = X\n",
        "  #print(i)\n",
        "\n",
        "#Time taken to simulate motion of nump particles each taking nums steps\n",
        "print(\"nump = \", nump, \"nums = \", nums, \"--- %s seconds ---\" % (time.time() - start_time))"
      ]
    },
    {
      "cell_type": "markdown",
      "metadata": {
        "id": "jBNgM94owtuI"
      },
      "source": [
        "# Plots"
      ]
    },
    {
      "cell_type": "code",
      "execution_count": null,
      "metadata": {
        "colab": {
          "background_save": true
        },
        "id": "-XY-_eoZwtuI"
      },
      "outputs": [],
      "source": [
        "#Histogram hitting times and plot MFPT\n",
        "hit = hittingTime[hittingTime != 0]\n",
        "#Should zero be removed for MFPT calculation?\n",
        "MFPT = np.average(hit)\n",
        "print(\"Mean First Passage Time = \", MFPT)\n",
        "plt.plot(np.tile(MFPT, int(max(plt.hist(hit, 30)[0]))), range(int(max(plt.hist(hit, 30)[0]))), label=\"MFPT\")\n",
        "#plt.hist(hit, 30, label=\"Zero removed\")\n",
        "#plt.hist(hittingTime, 30, label=\"Zero inflated\")\n",
        "plt.ylabel(\"Frequency\")\n",
        "plt.xlabel(\"hittingTime, nums\")\n",
        "plt.title(\"Hitting times and MFPT\")\n",
        "plt.legend()\n",
        "plt.show()\n",
        "#plt.savefig('/content/drive/MyDrive/Images/Hit_Iso_1_10.png')"
      ]
    },
    {
      "cell_type": "code",
      "execution_count": null,
      "metadata": {
        "colab": {
          "background_save": true
        },
        "id": "e6SLBIGvwtuJ"
      },
      "outputs": [],
      "source": [
        "#Probability of finding a particle in medium1 or medium2 or hiting the target\n",
        "count1 = np.zeros(nums)\n",
        "count2 = np.zeros(nums)\n",
        "count3 = np.zeros(nums)\n",
        "for t in range(nums):\n",
        "  for p in range(nump):\n",
        "    \"\"\"Here it matters if I set a hitting particle to -1 or stick it there\"\"\"\n",
        "    count3[t] += np.count_nonzero((0 < np.linalg.norm(Y[:, t, p])) & (np.linalg.norm(Y[:, t, p]) < R))\n",
        "    count1[t] += np.count_nonzero((R < np.linalg.norm(Y[:, t, p])) & (np.linalg.norm(Y[:, t, p]) < R1))\n",
        "    count2[t] += np.count_nonzero((R1 < np.linalg.norm(Y[:, t, p])) & (np.linalg.norm(Y[:, t, p]) < R2))\n",
        "\n",
        "xticks = np.linspace(1/nums, 1, nums)\n",
        "yticks = np.linspace(1/nums, 1, nums)\n",
        "plt.yscale(\"log\")\n",
        "plt.plot(count1/nump)\n",
        "plt.plot(count2/nump)\n",
        "plt.plot((count1 + count2)/nump)\n",
        "plt.plot(count3/nump)\n",
        "plt.plot(np.tile(MFPT/nums, nums))\n",
        "plt.legend([\"In D1\", \"In D2\", \"In D1 or D2\", \"Hit target\",\"MFPT\"])\n",
        "plt.ylabel(\"t, Time step\")\n",
        "plt.xlabel(\"Pr(t), Probability at time t\")\n",
        "plt.show()\n",
        "#plt.savefig('/content/drive/MyDrive/Images/Prob_Iso_1_10.png')"
      ]
    },
    {
      "cell_type": "code",
      "execution_count": null,
      "metadata": {
        "colab": {
          "background_save": true
        },
        "id": "ij9M7UkXwtuJ"
      },
      "outputs": [],
      "source": [
        "gridX = 100\n",
        "gridT = nums\n",
        "pos = np.round(np.linspace(0, 1, gridX + 1), 2)\n",
        "tim = np.linspace(0, gridT, gridT+1)\n",
        "PDF1D = np.zeros((gridT, gridX+1))\n",
        "\n",
        "#Derive a heatmap of the particles\n",
        "#Find the norm of particles at each time step\n",
        "Z = np.linalg.norm(Y/R2, axis=0)\n",
        "\n",
        "#Quantize it to 2 ( = log10(gridX)) decimal places as grix X is with such precision\n",
        "Z = np.round(Z, 2)\n",
        "\n",
        "for t in range(nums):\n",
        "#position of all particles at time t\n",
        "  for p in range(len(pos)):\n",
        "    PDF1D[t][p] = np.count_nonzero(Z[t, :] == pos[p])\n",
        "\n",
        "#Plot the heatmap of pdf\n",
        "plt.title(\"Joint PDF of particles, P(x, t)\")\n",
        "#PDF1D is a 2D matrix with (0,0)th element on top left. Fip vertically\n",
        "plt.yscale('log')\n",
        "plt.imshow(np.flipud(PDF1D/nump), cmap = 'flag', extent = [0, 1, dt, dt*nums], aspect = \"auto\")\n",
        "plt.xlabel(\"Distance, norm(x)\")\n",
        "plt.ylabel(\"Time, t\")\n",
        "plt.colorbar()"
      ]
    }
  ]
}