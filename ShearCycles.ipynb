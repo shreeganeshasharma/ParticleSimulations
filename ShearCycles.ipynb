{
  "nbformat": 4,
  "nbformat_minor": 0,
  "metadata": {
    "colab": {
      "provenance": [],
      "collapsed_sections": [
        "TaK4sBx4AQSo",
        "aE_PtPrRAWza",
        "-ytolKaqAsaU",
        "NufP0kF55tMx",
        "OC5jEPOBAqOy"
      ],
      "authorship_tag": "ABX9TyNEoKSBCIgO/onMszEU7KTf",
      "include_colab_link": true
    },
    "kernelspec": {
      "name": "python3",
      "display_name": "Python 3"
    },
    "language_info": {
      "name": "python"
    }
  },
  "cells": [
    {
      "cell_type": "markdown",
      "metadata": {
        "id": "view-in-github",
        "colab_type": "text"
      },
      "source": [
        "<a href=\"https://colab.research.google.com/github/shreeganeshasharma/ParticleSimulations/blob/main/ShearCycles.ipynb\" target=\"_parent\"><img src=\"https://colab.research.google.com/assets/colab-badge.svg\" alt=\"Open In Colab\"/></a>"
      ]
    },
    {
      "cell_type": "markdown",
      "source": [
        "[Random organization in periodically driven systems](https://https://www.nature.com/articles/nphys891/#Sec3)\n",
        "\n",
        "Author : Shree Ganesha Sharma M S\n",
        "\n",
        "Date : July 20th 2023\n",
        "\n",
        "# Initial configuration"
      ],
      "metadata": {
        "id": "TaK4sBx4AQSo"
      }
    },
    {
      "cell_type": "code",
      "execution_count": 1,
      "metadata": {
        "id": "erX2msE-AFBI"
      },
      "outputs": [],
      "source": [
        "#Libraries\n",
        "import numpy as np\n",
        "import matplotlib.pyplot as plt\n",
        "from matplotlib.patches import Circle\n",
        "\n",
        "#Set a seed for random number generation\n",
        "np.random.seed(44)\n",
        "\n",
        "#Box coordinates\n",
        "x_low = 0\n",
        "y_low = 0\n",
        "x_high = 1\n",
        "y_high = 1\n",
        "#Area of square\n",
        "A = (y_high - y_low)*(x_high - x_low)\n",
        "\n",
        "#Area fraction\n",
        "phi = 0.2\n",
        "#Number of particles\n",
        "N = 1000\n",
        "\n",
        "#diameter of a particle\n",
        "d = np.sqrt(A * phi / (N * np.pi / 4))\n",
        "\n",
        "#Number of shear cycles\n",
        "Ncycles = 200\n",
        "\n",
        "#Initialize the box\n",
        "#List of N particle centers\n",
        "particles = []\n",
        "\n",
        "#Add a particle to the box\n",
        "particles.append(np.random.uniform(low = [x_low, y_low], high = [x_high, y_high]))\n",
        "\n",
        "#Add N-1 particles in random such that none of them overlap\n",
        "while len(particles) < N:\n",
        "  new_particle = np.random.uniform(low = [x_low, y_low], high = [x_high, y_high])\n",
        "  if all(np.linalg.norm(new_particle - particles, axis=1) > d) == True:\n",
        "    particles.append(new_particle)\n",
        "\n",
        "particles = np.array(particles)\n",
        "\n",
        "#Save initial configuration for all methods\n",
        "init = particles"
      ]
    },
    {
      "cell_type": "markdown",
      "source": [
        "# Method 0\n",
        "Displace an active particle as many times as it collides"
      ],
      "metadata": {
        "id": "aE_PtPrRAWza"
      }
    },
    {
      "cell_type": "code",
      "source": [
        "#shear amplitude\n",
        "gamma0 = 2\n",
        "\n",
        "#Proportion of active particles in each shear cycle\n",
        "fa1 = np.zeros(Ncycles)\n",
        "\n",
        "#An array of positions when sheared, initialize to no shear\n",
        "partilces = init\n",
        "sheared = init\n",
        "\n",
        "#Do shear cycles and random organization until there are no more active particles - works if gamma0 < gammaCritical\n",
        "#For gamma0 > gammaCritical, do for a large number of cycles\n",
        "\"\"\"TODO - use modulus for periodic boundary conditions - Done\"\"\"\n",
        "\n",
        "for i in range(1, Ncycles):\n",
        "  #print(i)\n",
        "  #Array of activity of particles - how many other particles one collides with\n",
        "  #activity = 0 -> inactive particle, no collision - initially all are inactive\n",
        "  activity = np.zeros(N)\n",
        "\n",
        "  sheared = np.array([[particle[0] + particle[1]/gamma0, particle[1]] for particle in particles])\n",
        "\n",
        "  #Check if a particle collides with any other upon shear\n",
        "  #activity = n > 0 -> active particle, collides with n other particles\n",
        "  for p in range(N):\n",
        "    if any(np.linalg.norm(sheared[p] - np.delete(sheared, p, axis = 0), axis=1) <= d) == True:\n",
        "      activity[p] = sum(np.linalg.norm(sheared[p] - np.delete(sheared, p, axis = 0), axis=1) <= d)\n",
        "      #Instead of count/sum can store index of all encounters of a particle - just delete sum\n",
        "\n",
        "  #Update fraction of active particles in a cycle\n",
        "  fa1[i] = len(np.nonzero(activity)[0])/N\n",
        "\n",
        "  #Revert to original positions and random displacement of active particles as many times as they collide with others\n",
        "  for p in np.nonzero(activity)[0]:\n",
        "    l, theta = np.random.uniform(low = [0, 0], high = [d/2, 2*np.pi])\n",
        "    new_particle = [particles[p][0] + l * np.cos(theta), particles[p][1] + l * np.sin(theta)]\n",
        "    particles[p] = new_particle\n",
        "\"\"\"\"\"\"\n",
        "#Make activity an array of arrays and append the index of all colliding particles to it\n",
        "#Use any and get positions of collisions"
      ],
      "metadata": {
        "id": "gjXKQ3NnTgfa"
      },
      "execution_count": null,
      "outputs": []
    },
    {
      "cell_type": "code",
      "source": [
        "#shear amplitude\n",
        "gamma0 = 3\n",
        "\n",
        "#Proportion of active particles in each shear cycle\n",
        "fa2 = np.zeros(Ncycles)\n",
        "\n",
        "#An array of positions when sheared, initialize to no shear\n",
        "sheared = particles\n",
        "\n",
        "#Do shear cycles and random organization until there are no more active particles - works if gamma0 < gammaCritical\n",
        "#For gamma0 > gammaCritical, do for a large number of cycles\n",
        "\"\"\"TODO - use modulus for periodic boundary conditions\"\"\"\n",
        "\n",
        "for i in range(1, Ncycles):\n",
        "  #print(i)\n",
        "  #Array of activity of particles - how many other particles one collides with\n",
        "  #activity = 0 -> inactive particle, no collision - initially all are inactive\n",
        "  activity = np.zeros(N)\n",
        "\n",
        "  sheared = np.array([[particle[0] + particle[1]/gamma0, particle[1]] for particle in particles])\n",
        "\n",
        "  #Check if a particle collides with any other upon shear\n",
        "  #activity = n > 0 -> active particle, collides with n other particles\n",
        "  for p in range(N):\n",
        "    if any(np.linalg.norm(sheared[p] - np.delete(sheared, p, axis = 0), axis=1) <= d) == True:\n",
        "      activity[p] = sum(np.linalg.norm(sheared[p] - np.delete(sheared, p, axis = 0), axis=1) <= d)\n",
        "      #Instead of count/sum can store index of all encounters of a particle - just delete sum\n",
        "\n",
        "  #Update fraction of active particles in a cycle\n",
        "  fa2[i] = len(np.nonzero(activity)[0])/N\n",
        "\n",
        "  #Revert to original positions and random displacement of active particles as many times as they collide with others\n",
        "  for p in np.nonzero(activity)[0]:\n",
        "    l, theta = np.random.uniform(low = [0, 0], high = [d/2, 2*np.pi])\n",
        "    new_particle = [particles[p][0] + l * np.cos(theta), particles[p][1] + l * np.sin(theta)]\n",
        "    particles[p] = new_particle"
      ],
      "metadata": {
        "id": "sbz_z94OAWao"
      },
      "execution_count": null,
      "outputs": []
    },
    {
      "cell_type": "code",
      "source": [
        "#Plot the fraction of active particles\n",
        "plt.figure(figsize=(7, 7))\n",
        "plt.title(\"Fraction of active particls vs chear cycles\")\n",
        "plt.plot(fa1[1:], 'b', label=\"gamma = 2\")\n",
        "plt.plot(fa2[1:], 'r', label=\"gamma = 3\")\n",
        "plt.legend()\n",
        "plt.show()"
      ],
      "metadata": {
        "colab": {
          "base_uri": "https://localhost:8080/",
          "height": 622
        },
        "id": "QABRweo5Umvi",
        "outputId": "6cceabf5-e0e7-474d-8c35-88b3a3bb82bb"
      },
      "execution_count": null,
      "outputs": [
        {
          "output_type": "display_data",
          "data": {
            "text/plain": [
              "<Figure size 700x700 with 1 Axes>"
            ],
            "image/png": "[encoded data removed]"
          },
          "metadata": {}
        }
      ]
    },
    {
      "cell_type": "markdown",
      "source": [
        "# Method 1\n",
        "Shear cycles with colliding pairs displaced by the **different** random numbers.\n",
        "\n",
        "The displacemtn might increase or decrease the distance between the pair."
      ],
      "metadata": {
        "id": "-ytolKaqAsaU"
      }
    },
    {
      "cell_type": "code",
      "source": [
        "#shear amplitude\n",
        "gamma0 = 2\n",
        "\n",
        "#Proportion of active particles in each shear cycle\n",
        "fa1 = np.zeros(Ncycles)\n",
        "\n",
        "#An array of positions when sheared, initialize to no shear\n",
        "sheared = particles\n",
        "\n",
        "#Do shear cycles and random organization until there are no more active particles - works if gamma0 < gammaCritical\n",
        "#For gamma0 > gammaCritical, do for a large number of cycles\n",
        "\n",
        "for i in range(Ncycles):\n",
        "  #print(i)\n",
        "  #Dictionary of active particles - list of indices of all other particles that collide with pth particle\n",
        "  activity = {}\n",
        "\n",
        "  #Find sheared positions\n",
        "  #Use periodic boundary conditions -\n",
        "  #\"The box doesn't move - the particles move out of the square boundary under consideration and return to the other end!\" - prof. Anki\n",
        "  sheared = np.array([[(particle[0] + particle[1]/gamma0)%x_high, particle[1]] for particle in particles])\n",
        "\n",
        "  #Check upon shear if a particle collides with any other\n",
        "  for p in range(N):\n",
        "    if any(np.linalg.norm(sheared[p] - np.delete(sheared, p, axis = 0), axis=1) <= d) == True:\n",
        "      #Get indices of all particles the pth particle is colliding with, except for the present particle\n",
        "      #print(p, np.nonzero(np.linalg.norm(sheared[p] - sheared, axis=1) <= d)[0])\n",
        "      activity[p] = np.delete(np.nonzero(np.linalg.norm(sheared[p] - sheared, axis=1) <= d)[0], np.where(np.nonzero(np.linalg.norm(sheared[p] - sheared, axis=1) <= d)[0] == p))\n",
        "      #Type cast to list as removal of list element is easier, can be done by value, whereas np array requies\n",
        "\n",
        "  #Update fraction of active particles in a cycle\n",
        "  fa1[i] = len(activity)/N\n",
        "\n",
        "  #Revert to original positions and Random displacement of active particles in pairs\n",
        "  for index1 in activity.keys():\n",
        "    index2 = activity[index1]\n",
        "    #print(index1, index2)\n",
        "    while index2.size > 0:\n",
        "      #print(index2)\n",
        "      #First encountered particle - first in the list of indices of ith particle\n",
        "      #Common random displacement for every pair of collision - won't work\n",
        "      #Two active particles will remain active if I displace both of them by the same random number, the pair itlself is just translated\n",
        "      l1, theta1 = np.random.uniform(low = [0, 0], high = [d/2, 2*np.pi])\n",
        "      displacement1 = np.array([l1 * np.cos(theta1), l1 * np.sin(theta1)])\n",
        "      l2, theta2 = np.random.uniform(low = [0, 0], high = [d/2, 2*np.pi])\n",
        "      displacement2 = np.array([l2 * np.cos(theta2), l1 * np.sin(theta2)])\n",
        "      #Figure1 of the paper shows that particles are displaced by different random numbers and nothing about clash resolution is mentioned\n",
        "      \"\"\"\n",
        "      dist = np.linalg.norm((particles[index1] + displacement1) - (particles[index2[0]] + displacement2))\n",
        "      #The pair might collide due to random displacemnt in the initial configuration itself\n",
        "      #So find a random displacemnt until clash is resolved\n",
        "      while dist <= d/2:\n",
        "        l1, theta1 = np.random.uniform(low = [0, 0], high = [d/2, 2*np.pi])\n",
        "        displacement1 = np.array([l1 * np.cos(theta1), l1 * np.sin(theta1)])\n",
        "        l2, theta2 = np.random.uniform(low = [0, 0], high = [d/2, 2*np.pi])\n",
        "        displacement2 = np.array([l2 * np.cos(theta2), l1 * np.sin(theta2)])\n",
        "        dist = np.linalg.norm((particles[index1] + displacement1) - (particles[index2[0]] + displacement2))\n",
        "      \"\"\"\n",
        "      particles[index1] += displacement1\n",
        "      particles[index2[0]] += displacement2\n",
        "\n",
        "      #The encountered particle also has the present particle in its encounters - In the dictionary, remove the present key from present values's value\n",
        "      activity[index2[0]] = np.delete(activity[index2[0]], np.where(activity[index2[0]] == index1)[0][0], axis = 0)\n",
        "\n",
        "      #Particle1 might collide with many particles - Remove the first encountered particle in its list\n",
        "      index2 = np.delete(index2, 0, axis = 0)"
      ],
      "metadata": {
        "id": "cvJJDpfnAst2"
      },
      "execution_count": null,
      "outputs": []
    },
    {
      "cell_type": "code",
      "source": [
        "#shear amplitude\n",
        "gamma0 = 3\n",
        "\n",
        "#Proportion of active particles in each shear cycle\n",
        "fa2 = np.zeros(Ncycles)\n",
        "\n",
        "#An array of positions when sheared, initialize to no shear\n",
        "sheared = particles\n",
        "\n",
        "#Do shear cycles and random organization until there are no more active particles - works if gamma0 < gammaCritical\n",
        "#For gamma0 > gammaCritical, do for a large number of cycles\n",
        "\n",
        "for i in range(Ncycles):\n",
        "  #print(i)\n",
        "  #Dictionary of active particles - list of indices of all other particles that collide with pth particle\n",
        "  activity = {}\n",
        "\n",
        "  #Find sheared positions\n",
        "  #Use periodic boundary conditions -\n",
        "  #\"The box doesn't move - the particles move out of the square boundary under consideration and return to the other end!\" - prof. Anki\n",
        "  sheared = np.array([[(particle[0] + particle[1]/gamma0)%x_high, particle[1]] for particle in particles])\n",
        "\n",
        "  #Check upon shear if a particle collides with any other\n",
        "  for p in range(N):\n",
        "    if any(np.linalg.norm(sheared[p] - np.delete(sheared, p, axis = 0), axis=1) <= d) == True:\n",
        "      #Get indices of all particles the pth particle is colliding with, except for the present particle\n",
        "      #print(p, np.nonzero(np.linalg.norm(sheared[p] - sheared, axis=1) <= d)[0])\n",
        "      activity[p] = np.delete(np.nonzero(np.linalg.norm(sheared[p] - sheared, axis=1) <= d)[0], np.where(np.nonzero(np.linalg.norm(sheared[p] - sheared, axis=1) <= d)[0] == p))\n",
        "      #Type cast to list as removal of list element is easier, can be done by value, whereas np array requies\n",
        "\n",
        "  #Update fraction of active particles in a cycle\n",
        "  fa2[i] = len(activity)/N\n",
        "\n",
        "  #Revert to original positions and Random displacement of active particles in pairs\n",
        "  for index1 in activity.keys():\n",
        "    index2 = activity[index1]\n",
        "    #print(index1, index2)\n",
        "    while index2.size > 0:\n",
        "      #print(index2)\n",
        "      #First encountered particle - first in the list of indices of ith particle\n",
        "      #Common random displacement for every pair of collision - won't work\n",
        "      #Two active particles will remain active if I displace both of them by the same random number, the pair itlself is just translated\n",
        "      l1, theta1 = np.random.uniform(low = [0, 0], high = [d/2, 2*np.pi])\n",
        "      displacement1 = np.array([l1 * np.cos(theta1), l1 * np.sin(theta1)])\n",
        "      l2, theta2 = np.random.uniform(low = [0, 0], high = [d/2, 2*np.pi])\n",
        "      displacement2 = np.array([l2 * np.cos(theta2), l1 * np.sin(theta2)])\n",
        "      #Figure1 of the paper shows that particles are displaced by different random numbers and nothing about clash resolution is mentioned\n",
        "      \"\"\"\n",
        "      dist = np.linalg.norm((particles[index1] + displacement1) - (particles[index2[0]] + displacement2))\n",
        "      #The pair might collide due to random displacemnt in the initial configuration itself\n",
        "      #So find a random displacemnt until clash is resolved\n",
        "      while dist <= d/2:\n",
        "        l1, theta1 = np.random.uniform(low = [0, 0], high = [d/2, 2*np.pi])\n",
        "        displacement1 = np.array([l1 * np.cos(theta1), l1 * np.sin(theta1)])\n",
        "        l2, theta2 = np.random.uniform(low = [0, 0], high = [d/2, 2*np.pi])\n",
        "        displacement2 = np.array([l2 * np.cos(theta2), l1 * np.sin(theta2)])\n",
        "        dist = np.linalg.norm((particles[index1] + displacement1) - (particles[index2[0]] + displacement2))\n",
        "      \"\"\"\n",
        "      particles[index1] += displacement1\n",
        "      particles[index2[0]] += displacement2\n",
        "\n",
        "      #The encountered particle also has the present particle in its encounters - In the dictionary, remove the present key from present values's value\n",
        "      activity[index2[0]] = np.delete(activity[index2[0]], np.where(activity[index2[0]] == index1)[0][0], axis = 0)\n",
        "\n",
        "      #Particle1 might collide with many particles - Remove the first encountered particle in its list\n",
        "      index2 = np.delete(index2, 0, axis = 0)"
      ],
      "metadata": {
        "id": "R1q-0dK7Tsac"
      },
      "execution_count": null,
      "outputs": []
    },
    {
      "cell_type": "code",
      "source": [
        "#Plot the fraction of active particles\n",
        "plt.figure(figsize=(7, 7))\n",
        "plt.title(\"Fraction of active particls vs chear cycles\")\n",
        "plt.plot(fa1[1:], 'b', label=\"gamma = 2\")\n",
        "plt.plot(fa2[1:], 'r', label=\"gamma = 3\")\n",
        "plt.legend()\n",
        "plt.show()"
      ],
      "metadata": {
        "colab": {
          "base_uri": "https://localhost:8080/",
          "height": 622
        },
        "id": "jrtdzl0AVHP3",
        "outputId": "586eb265-4cf5-4f60-a8f5-b25103e6ee93"
      },
      "execution_count": null,
      "outputs": [
        {
          "output_type": "display_data",
          "data": {
            "text/plain": [
              "<Figure size 700x700 with 1 Axes>"
            ],
            "image/png": "[encoded data removed]"
          },
          "metadata": {}
        }
      ]
    },
    {
      "cell_type": "markdown",
      "source": [
        "# Misc"
      ],
      "metadata": {
        "id": "NufP0kF55tMx"
      }
    },
    {
      "cell_type": "code",
      "source": [
        "\"\"\"\n",
        "#Plot initial configuration\n",
        "fig,ax=plt.subplots(figsize=(7.5,7.4))\n",
        "ax.set_aspect(1)\n",
        "ax.set_title(\"Initial position of particles\")\n",
        "plt.xlim(x_low-0.1, x_high+0.1)\n",
        "plt.ylim(y_low-0.1, y_high+0.1)\n",
        "\n",
        "for particle in particles:\n",
        "    ax.add_artist(plt.Circle((particle[0], particle[1]), d/2, color='b', fill = False))\n",
        "plt.show()\"\"\""
      ],
      "metadata": {
        "id": "u8ErWqYoWCUF"
      },
      "execution_count": null,
      "outputs": []
    },
    {
      "cell_type": "code",
      "source": [
        "print(particles[index1], particles[index2[0]])\n",
        "print(displacement1, displacement2)\n",
        "print((particles[index1] + displacement1) - (particles[index2[0]] + displacement2))\n",
        "np.linalg.norm((particles[index1] + displacement1) - (particles[index2[0]] + displacement2))"
      ],
      "metadata": {
        "colab": {
          "base_uri": "https://localhost:8080/"
        },
        "id": "_KRfx2CSEGft",
        "outputId": "a673169a-33b2-4b0a-aa93-251ffe11a29d"
      },
      "execution_count": null,
      "outputs": [
        {
          "output_type": "stream",
          "name": "stdout",
          "text": [
            "[0.99025391 0.6413615 ] [0.9992676  0.62704784]\n",
            "[-0.00212164 -0.00483799] [-0.00122031 -0.00491834]\n",
            "[-0.00991502  0.01439401]\n"
          ]
        },
        {
          "output_type": "execute_result",
          "data": {
            "text/plain": [
              "0.017478418781756756"
            ]
          },
          "metadata": {},
          "execution_count": 17
        }
      ]
    },
    {
      "cell_type": "code",
      "source": [
        "import numpy as np\n",
        "import matplotlib.pyplot as plt\n",
        "fil1 = np.genfromtxt(\"/content/sample_data/fraction2_500.csv\", delimiter = ',')\n",
        "fil2 = np.genfromtxt(\"/content/sample_data/fraction3_500.csv\", delimiter = ',')\n",
        "\n",
        "plt.figure(figsize=(7, 7))\n",
        "plt.title(\"Fraction of active particles v\\s number of shear cycles\")\n",
        "plt.plot(fil1, 'b', label = \"gamma = 2\")\n",
        "plt.plot(fil2, 'r', label = \"gamma = 3\")\n",
        "plt.legend()\n",
        "plt.show()"
      ],
      "metadata": {
        "colab": {
          "base_uri": "https://localhost:8080/",
          "height": 622
        },
        "id": "JClRjtzwKLST",
        "outputId": "04fc4f26-7471-47e7-fe60-c00ab8e0f35d"
      },
      "execution_count": null,
      "outputs": [
        {
          "output_type": "display_data",
          "data": {
            "text/plain": [
              "<Figure size 700x700 with 1 Axes>"
            ],
            "image/png": "[encoded data removed]"
          },
          "metadata": {}
        }
      ]
    },
    {
      "cell_type": "code",
      "source": [
        "import numpy as np\n",
        "import matplotlib.pyplot as plt\n",
        "fil = np.genfromtxt(\"/content/sample_data/fraction2_5000.csv\", delimiter = ',')\n",
        "print(fil)\n",
        "plt.figure(figsize=(10, 10))\n",
        "plt.xlim(0, 500)\n",
        "plt.plot(fil)"
      ],
      "metadata": {
        "colab": {
          "base_uri": "https://localhost:8080/",
          "height": 865
        },
        "id": "G8Rwl7wqHh4Y",
        "outputId": "9d64be7f-81b1-4c41-8dc5-0d2465e021d7"
      },
      "execution_count": null,
      "outputs": [
        {
          "output_type": "stream",
          "name": "stdout",
          "text": [
            "[0.16  0.113 0.091 ... 0.    0.    0.   ]\n"
          ]
        },
        {
          "output_type": "execute_result",
          "data": {
            "text/plain": [
              "[<matplotlib.lines.Line2D at 0x7b9b1b5cea10>]"
            ]
          },
          "metadata": {},
          "execution_count": 27
        },
        {
          "output_type": "display_data",
          "data": {
            "text/plain": [
              "<Figure size 1000x1000 with 1 Axes>"
            ],
            "image/png": "[encoded data removed]"
          },
          "metadata": {}
        }
      ]
    },
    {
      "cell_type": "code",
      "source": [
        "print(index2)\n",
        "\n",
        "activity[index2[0]]\n",
        "print(np.where(activity[index2[0]] == index1)[0][0])"
      ],
      "metadata": {
        "colab": {
          "base_uri": "https://localhost:8080/"
        },
        "id": "KMALuMSuAEkF",
        "outputId": "195ec02a-b6c0-4be6-989d-e698ec4c8b21"
      },
      "execution_count": null,
      "outputs": [
        {
          "output_type": "stream",
          "name": "stdout",
          "text": [
            "[908]\n",
            "0\n"
          ]
        }
      ]
    },
    {
      "cell_type": "code",
      "source": [
        "print(particles[index1])\n",
        "print(particles[index2[0]])\n",
        "print(np.linalg.norm(particles[index2[0]] - particles[index1]))\n",
        "print(d)"
      ],
      "metadata": {
        "colab": {
          "base_uri": "https://localhost:8080/"
        },
        "id": "daH7KtUg-hr6",
        "outputId": "d51ff7a4-859a-4cfa-f0f5-0532e5e7b6d9"
      },
      "execution_count": null,
      "outputs": [
        {
          "output_type": "stream",
          "name": "stdout",
          "text": [
            "[-0.51581555  1.04178664]\n",
            "[-0.52332952  1.05644584]\n",
            "0.01647276242985486\n",
            "0.01595769121605731\n"
          ]
        }
      ]
    },
    {
      "cell_type": "code",
      "source": [
        "a = {1: [2, 3]}\n",
        "print(a)\n",
        "a[1].remove(a[1][0])\n",
        "print(a)\n",
        "a[1].remove(a[1][0])\n",
        "print(a)\n",
        "print(a[1] != [])\n",
        "\n",
        "a = {1: np.array([2, 3])}\n",
        "print(a[1][0])\n",
        "print(np.delete(a[1], 0, 0))\n",
        "a[1] = np.delete(a[1], 0, 0)\n",
        "print(np.delete(a[1], 0, 0))\n",
        "a[1] = np.delete(a[1], 0, 0)\n",
        "print(a[1], a[1].size)\n",
        "\n",
        "print(2.5%2)"
      ],
      "metadata": {
        "colab": {
          "base_uri": "https://localhost:8080/"
        },
        "id": "ZaOw49OooKNu",
        "outputId": "9ae9ea11-42b3-4d17-8069-1a1639c00100"
      },
      "execution_count": null,
      "outputs": [
        {
          "output_type": "stream",
          "name": "stdout",
          "text": [
            "{1: [2, 3]}\n",
            "{1: [3]}\n",
            "{1: []}\n",
            "False\n",
            "2\n",
            "[3]\n",
            "[]\n",
            "[] 0\n",
            "0.5\n"
          ]
        }
      ]
    },
    {
      "cell_type": "code",
      "source": [
        "  for i in activity.keys():\n",
        "    #current particle\n",
        "    #particle1 = particles[i]\n",
        "    while activity[i] != []:\n",
        "      #First encountered particle - first in the list of indices of ith particle\n",
        "      #particle2 = particles[activity[i][0]]\n",
        "      #Common random displacement for every pair of collision\n",
        "      l, theta = np.random.uniform(low = [0, 0], high = [d/2, 2*np.pi])\n",
        "      displacement = np.array([l * np.cos(theta), l * np.sin(theta)])\n",
        "\n",
        "      #Should I cerify that this random displacement doesn't cause collision in original configuration\n",
        "      #if all(np.linalg.norm(new_particle - np.delete(particles, p, 0), axis=1) > d) == True:\n",
        "      #But takes too long\n",
        "\n",
        "      #Displace the original positions\n",
        "      #particle1 += displacement\n",
        "      #particle2 += displacement\n",
        "      particles[i] += displacement\n",
        "      particles[activity[i][0]] += displacement\n",
        "      #This completes displacing a pair for a particular key\n",
        "\n",
        "      #The encountered particle also has the present particle in its encounters - In the dictionary, remove the present key from present values's value\n",
        "      np.delete(activity[activity[i][0]], np.where(activity[activity[i][0]] == i), axis = 0)\n",
        "\n",
        "      #Particle1 might collide with many particles - Remove the first encountered particle in its list\n",
        "      np.delete(activity[i], 0, axis = 0)"
      ],
      "metadata": {
        "id": "uDp9tW-T51KU"
      },
      "execution_count": null,
      "outputs": []
    },
    {
      "cell_type": "code",
      "source": [
        "  #Revert to original positions and,\n",
        "  #Random displacement of active particles in pairs\n",
        "  for i in range(len(activity)):\n",
        "    #current particle\n",
        "    particle1 = particles[activity.keys[i]]\n",
        "    while activity[i] != []:\n",
        "      #encountered particle\n",
        "      particle2 = particles[activity[i]]\n",
        "      #Common random displacement for every pair of collision\n",
        "      l, theta = np.random.uniform(low = [0, 0], high = [d/2, 2*np.pi])\n",
        "      displacement = np.array([l * np.cos(theta), l * np.sin(theta)])\n",
        "\n",
        "      #Should I cerify that this random displacement doesn't cause collision in original configuration\n",
        "      #if all(np.linalg.norm(new_particle - np.delete(particles, p, 0), axis=1) > d) == True:\n",
        "      #But takes too long\n",
        "\n",
        "      #Displace the original positions\n",
        "      particle1 += displacement\n",
        "      particle2 += displacement\n",
        "\n",
        "      #The encountered particle also has the present particle in its encounters - In the dictionary, remove the present key from present values's value\n",
        "      np.delete(activity[i], np.where(activity[i] == activity.keys[i]), axis = 0)\n",
        "\n",
        "      #Particle1 might collide with many particles - Remove the first encountered particle in its list\n",
        "      np.delete(activity[i], index = 0, axis = 0)\n",
        "\n",
        "      #This completes displacing a pair"
      ],
      "metadata": {
        "colab": {
          "base_uri": "https://localhost:8080/"
        },
        "id": "ly7bbfdoq00k",
        "outputId": "5dd1fcbd-5aa8-4a6a-a0f4-96f872334c5d"
      },
      "execution_count": null,
      "outputs": [
        {
          "output_type": "stream",
          "name": "stdout",
          "text": [
            "<class 'numpy.ndarray'>\n"
          ]
        }
      ]
    },
    {
      "cell_type": "code",
      "source": [
        "a = np.array([1, 2])\n",
        "b = np.array([2, 3])\n",
        "a + b"
      ],
      "metadata": {
        "colab": {
          "base_uri": "https://localhost:8080/"
        },
        "id": "D_WmKOo3qt4E",
        "outputId": "f1715777-d9f8-45a5-faef-68b63afcf652"
      },
      "execution_count": null,
      "outputs": [
        {
          "output_type": "execute_result",
          "data": {
            "text/plain": [
              "array([3, 5])"
            ]
          },
          "metadata": {},
          "execution_count": 107
        }
      ]
    },
    {
      "cell_type": "markdown",
      "source": [
        "# Method 2\n",
        "Replace a particle as many times as it collides at once"
      ],
      "metadata": {
        "id": "OC5jEPOBAqOy"
      }
    },
    {
      "cell_type": "code",
      "source": [
        "#Proportion of active particles in each shear cycle\n",
        "fa = np.zeros(Ncycles)\n",
        "\n",
        "#An array of positions when sheared, initialize to no shear\n",
        "sheared = particles\n",
        "\n",
        "#Do shear cycles and random organization until there are no more active particles - works if gamma0 < gammaCritical\n",
        "#For gamma0 > gammaCritical, do for a large number of cycles\n",
        "\n",
        "for i in range(1, Ncycles):\n",
        "  print(i)\n",
        "  #Array of activity of particles - how many other particles one collides with\n",
        "  #activity = 0 -> inactive particle, no collision - initially all are inactive\n",
        "  activity = np.zeros(N)\n",
        "\n",
        "  sheared = np.array([[particle[0] + particle[1]/gamma0, particle[1]] for particle in particles])\n",
        "\n",
        "  #Check if a particle collides with any other upon shear\n",
        "  #activity = n > 0 -> active particle, collides with n other particles\n",
        "  for p in range(N):\n",
        "    if any(np.linalg.norm(sheared[p] - np.delete(sheared, p, axis = 0), axis=1) <= d) == True:\n",
        "      activity[p] = sum(np.linalg.norm(sheared[p] - np.delete(sheared, p, axis = 0), axis=1) <= d)\n",
        "      #Instead of count/sum can store index of all encounters of a particle - just delete sum\n",
        "\n",
        "  #Update fraction of active particles in a cycle\n",
        "  fa[i] = len(np.nonzero(activity)[0])/N\n",
        "\n",
        "  #Revert to original positions and random displacement of active particles as many times as they collide with others\n",
        "  for p in np.nonzero(activity)[0]:\n",
        "    for i in range(int(activity[p])):\n",
        "      l, theta = np.random.uniform(low = [0, 0], high = [d/2, 2*np.pi])\n",
        "      new_particle = [particles[p][0] + l * np.cos(theta), particles[p][1] + l * np.sin(theta)]\n",
        "      #Verify random displacement doesn't cause collision in original configuration\n",
        "      #if all(np.linalg.norm(new_particle - np.delete(particles, p, 0), axis=1) > d) == True:\n",
        "      #But takes too long\n",
        "      particles[p] = new_particle\n",
        "\n",
        "#Make activity an array of arrays and append the index of all colliding particles to it\n",
        "#Use any and get positions of collisions\n",
        "\"\"\"TODO - use modulus for periodic boundary conditions\"\"\""
      ],
      "metadata": {
        "id": "oqmBcFS-Aqi6"
      },
      "execution_count": null,
      "outputs": []
    },
    {
      "cell_type": "markdown",
      "source": [
        "# Method 4\n",
        "Shear cycles with colliding pairs displaced by the SAME random number until the pair is separated.\n",
        "\n",
        "Agnostic to whether the pair collides with the remaining particles."
      ],
      "metadata": {
        "id": "eECeIc6CBN55"
      }
    },
    {
      "cell_type": "code",
      "source": [],
      "metadata": {
        "id": "zjECKu7mBOLE"
      },
      "execution_count": null,
      "outputs": []
    },
    {
      "cell_type": "markdown",
      "source": [
        "# Method 5\n",
        "The new position should not collide with any other particles."
      ],
      "metadata": {
        "id": "0sblSeLISzDu"
      }
    },
    {
      "cell_type": "code",
      "source": [],
      "metadata": {
        "id": "511xvWRrSzX7"
      },
      "execution_count": null,
      "outputs": []
    }
  ]
}